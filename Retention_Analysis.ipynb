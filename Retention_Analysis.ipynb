{
 "cells": [
  {
   "cell_type": "code",
   "execution_count": 9,
   "id": "12fbb52a-b2c9-4746-ab48-be6d3be47974",
   "metadata": {},
   "outputs": [],
   "source": [
    "import pandas as pd\n",
    "import os\n",
    "os.getcwd()\n",
    "os.chdir(r'D:\\\\IDMA\\\\ML Course')\n",
    "os.getcwd()\n",
    "df=pd.read_json('retention.json')\n",
    "df.to_csv(r'D:\\\\IDMA\\\\ML Course\\retention1.csv')"
   ]
  },
  {
   "cell_type": "code",
   "execution_count": 10,
   "id": "9971c7a5-5b47-4ea0-a714-59555ee44b68",
   "metadata": {},
   "outputs": [],
   "source": [
    "df1=pd.read_csv('retention1.csv',index_col=0)"
   ]
  },
  {
   "cell_type": "code",
   "execution_count": 11,
   "id": "62337355-8f9f-4e8e-9b6c-e1ff963a667e",
   "metadata": {},
   "outputs": [
    {
     "data": {
      "text/html": [
       "<div>\n",
       "<style scoped>\n",
       "    .dataframe tbody tr th:only-of-type {\n",
       "        vertical-align: middle;\n",
       "    }\n",
       "\n",
       "    .dataframe tbody tr th {\n",
       "        vertical-align: top;\n",
       "    }\n",
       "\n",
       "    .dataframe thead th {\n",
       "        text-align: right;\n",
       "    }\n",
       "</style>\n",
       "<table border=\"1\" class=\"dataframe\">\n",
       "  <thead>\n",
       "    <tr style=\"text-align: right;\">\n",
       "      <th></th>\n",
       "      <th>0</th>\n",
       "      <th>1</th>\n",
       "      <th>2</th>\n",
       "      <th>3</th>\n",
       "      <th>4</th>\n",
       "      <th>5</th>\n",
       "      <th>6</th>\n",
       "      <th>7</th>\n",
       "      <th>8</th>\n",
       "      <th>9</th>\n",
       "      <th>...</th>\n",
       "      <th>54020</th>\n",
       "      <th>54021</th>\n",
       "      <th>54022</th>\n",
       "      <th>54023</th>\n",
       "      <th>54024</th>\n",
       "      <th>54025</th>\n",
       "      <th>54026</th>\n",
       "      <th>54027</th>\n",
       "      <th>54028</th>\n",
       "      <th>54029</th>\n",
       "    </tr>\n",
       "  </thead>\n",
       "  <tbody>\n",
       "    <tr>\n",
       "      <th>gender</th>\n",
       "      <td>M</td>\n",
       "      <td>M</td>\n",
       "      <td>M</td>\n",
       "      <td>M</td>\n",
       "      <td>M</td>\n",
       "      <td>F</td>\n",
       "      <td>F</td>\n",
       "      <td>M</td>\n",
       "      <td>F</td>\n",
       "      <td>M</td>\n",
       "      <td>...</td>\n",
       "      <td>F</td>\n",
       "      <td>M</td>\n",
       "      <td>F</td>\n",
       "      <td>F</td>\n",
       "      <td>M</td>\n",
       "      <td>M</td>\n",
       "      <td>F</td>\n",
       "      <td>M</td>\n",
       "      <td>F</td>\n",
       "      <td>M</td>\n",
       "    </tr>\n",
       "    <tr>\n",
       "      <th>age</th>\n",
       "      <td>21 years</td>\n",
       "      <td>23 years</td>\n",
       "      <td>24 years</td>\n",
       "      <td>24 years</td>\n",
       "      <td>31 years</td>\n",
       "      <td>32 years</td>\n",
       "      <td>43 years</td>\n",
       "      <td>48 years</td>\n",
       "      <td>36 years</td>\n",
       "      <td>26 years</td>\n",
       "      <td>...</td>\n",
       "      <td>66 years</td>\n",
       "      <td>24 years</td>\n",
       "      <td>65 years</td>\n",
       "      <td>46 years</td>\n",
       "      <td>24 years</td>\n",
       "      <td>24 years</td>\n",
       "      <td>46 years</td>\n",
       "      <td>24 years</td>\n",
       "      <td>27 years</td>\n",
       "      <td>20 years</td>\n",
       "    </tr>\n",
       "    <tr>\n",
       "      <th>gross_income</th>\n",
       "      <td>$ 79070.91</td>\n",
       "      <td>$ 178270.68</td>\n",
       "      <td>$ 31243.56</td>\n",
       "      <td>$ 130740.54</td>\n",
       "      <td>$ 112975.17</td>\n",
       "      <td>$ 37318.56</td>\n",
       "      <td>$ 131281.5</td>\n",
       "      <td>$ 184641.6</td>\n",
       "      <td>$ 164347.86</td>\n",
       "      <td>$ 27311.31</td>\n",
       "      <td>...</td>\n",
       "      <td>$ 214340.37</td>\n",
       "      <td>$ 68385.87</td>\n",
       "      <td>$ 266600.04</td>\n",
       "      <td>$ 23037.99</td>\n",
       "      <td>$ 75405.6</td>\n",
       "      <td>$ 47237.01</td>\n",
       "      <td>$ 106930.05</td>\n",
       "      <td>$ 185323.05</td>\n",
       "      <td>$ 65246.79</td>\n",
       "      <td>$ 180678.48</td>\n",
       "    </tr>\n",
       "    <tr>\n",
       "      <th>segment</th>\n",
       "      <td>Individuals</td>\n",
       "      <td>College_Graduated</td>\n",
       "      <td>College_Graduated</td>\n",
       "      <td>College_Graduated</td>\n",
       "      <td>Individuals</td>\n",
       "      <td>Individuals</td>\n",
       "      <td>Individuals</td>\n",
       "      <td>Individuals</td>\n",
       "      <td>VIP</td>\n",
       "      <td>College_Graduated</td>\n",
       "      <td>...</td>\n",
       "      <td>Individuals</td>\n",
       "      <td>College_Graduated</td>\n",
       "      <td>Individuals</td>\n",
       "      <td>Individuals</td>\n",
       "      <td>College_Graduated</td>\n",
       "      <td>College_Graduated</td>\n",
       "      <td>Individuals</td>\n",
       "      <td>College_Graduated</td>\n",
       "      <td>College_Graduated</td>\n",
       "      <td>College_Graduated</td>\n",
       "    </tr>\n",
       "    <tr>\n",
       "      <th>num_credit_cards</th>\n",
       "      <td>0</td>\n",
       "      <td>0</td>\n",
       "      <td>0</td>\n",
       "      <td>0</td>\n",
       "      <td>0</td>\n",
       "      <td>0</td>\n",
       "      <td>0</td>\n",
       "      <td>0</td>\n",
       "      <td>0</td>\n",
       "      <td>0</td>\n",
       "      <td>...</td>\n",
       "      <td>0</td>\n",
       "      <td>0</td>\n",
       "      <td>1</td>\n",
       "      <td>0</td>\n",
       "      <td>0</td>\n",
       "      <td>0</td>\n",
       "      <td>1</td>\n",
       "      <td>0</td>\n",
       "      <td>0</td>\n",
       "      <td>0</td>\n",
       "    </tr>\n",
       "  </tbody>\n",
       "</table>\n",
       "<p>5 rows × 54030 columns</p>\n",
       "</div>"
      ],
      "text/plain": [
       "                            0                  1                  2  \\\n",
       "gender                      M                  M                  M   \n",
       "age                  21 years           23 years           24 years   \n",
       "gross_income       $ 79070.91        $ 178270.68         $ 31243.56   \n",
       "segment           Individuals  College_Graduated  College_Graduated   \n",
       "num_credit_cards            0                  0                  0   \n",
       "\n",
       "                                  3            4            5            6  \\\n",
       "gender                            M            M            F            F   \n",
       "age                        24 years     31 years     32 years     43 years   \n",
       "gross_income            $ 130740.54  $ 112975.17   $ 37318.56   $ 131281.5   \n",
       "segment           College_Graduated  Individuals  Individuals  Individuals   \n",
       "num_credit_cards                  0            0            0            0   \n",
       "\n",
       "                            7            8                  9  ...  \\\n",
       "gender                      M            F                  M  ...   \n",
       "age                  48 years     36 years           26 years  ...   \n",
       "gross_income       $ 184641.6  $ 164347.86         $ 27311.31  ...   \n",
       "segment           Individuals          VIP  College_Graduated  ...   \n",
       "num_credit_cards            0            0                  0  ...   \n",
       "\n",
       "                        54020              54021        54022        54023  \\\n",
       "gender                      F                  M            F            F   \n",
       "age                  66 years           24 years     65 years     46 years   \n",
       "gross_income      $ 214340.37         $ 68385.87  $ 266600.04   $ 23037.99   \n",
       "segment           Individuals  College_Graduated  Individuals  Individuals   \n",
       "num_credit_cards            0                  0            1            0   \n",
       "\n",
       "                              54024              54025        54026  \\\n",
       "gender                            M                  M            F   \n",
       "age                        24 years           24 years     46 years   \n",
       "gross_income              $ 75405.6         $ 47237.01  $ 106930.05   \n",
       "segment           College_Graduated  College_Graduated  Individuals   \n",
       "num_credit_cards                  0                  0            1   \n",
       "\n",
       "                              54027              54028              54029  \n",
       "gender                            M                  F                  M  \n",
       "age                        24 years           27 years           20 years  \n",
       "gross_income            $ 185323.05         $ 65246.79        $ 180678.48  \n",
       "segment           College_Graduated  College_Graduated  College_Graduated  \n",
       "num_credit_cards                  0                  0                  0  \n",
       "\n",
       "[5 rows x 54030 columns]"
      ]
     },
     "execution_count": 11,
     "metadata": {},
     "output_type": "execute_result"
    }
   ],
   "source": [
    "df1.head()"
   ]
  },
  {
   "cell_type": "code",
   "execution_count": 12,
   "id": "3780a338-f656-4c1b-b85a-3eee4459dada",
   "metadata": {},
   "outputs": [
    {
     "data": {
      "text/html": [
       "<div>\n",
       "<style scoped>\n",
       "    .dataframe tbody tr th:only-of-type {\n",
       "        vertical-align: middle;\n",
       "    }\n",
       "\n",
       "    .dataframe tbody tr th {\n",
       "        vertical-align: top;\n",
       "    }\n",
       "\n",
       "    .dataframe thead th {\n",
       "        text-align: right;\n",
       "    }\n",
       "</style>\n",
       "<table border=\"1\" class=\"dataframe\">\n",
       "  <thead>\n",
       "    <tr style=\"text-align: right;\">\n",
       "      <th></th>\n",
       "      <th>gender</th>\n",
       "      <th>age</th>\n",
       "      <th>gross_income</th>\n",
       "      <th>segment</th>\n",
       "      <th>num_credit_cards</th>\n",
       "      <th>tiprel_1mes</th>\n",
       "      <th>ind_actividad_cliente</th>\n",
       "      <th>num_Products</th>\n",
       "      <th>num_loans</th>\n",
       "      <th>duration</th>\n",
       "    </tr>\n",
       "  </thead>\n",
       "  <tbody>\n",
       "    <tr>\n",
       "      <th>0</th>\n",
       "      <td>M</td>\n",
       "      <td>21 years</td>\n",
       "      <td>$ 79070.91</td>\n",
       "      <td>Individuals</td>\n",
       "      <td>0</td>\n",
       "      <td>I</td>\n",
       "      <td>0</td>\n",
       "      <td>1</td>\n",
       "      <td>0</td>\n",
       "      <td>1035</td>\n",
       "    </tr>\n",
       "    <tr>\n",
       "      <th>1</th>\n",
       "      <td>M</td>\n",
       "      <td>23 years</td>\n",
       "      <td>$ 178270.68</td>\n",
       "      <td>College_Graduated</td>\n",
       "      <td>0</td>\n",
       "      <td>I</td>\n",
       "      <td>0</td>\n",
       "      <td>1</td>\n",
       "      <td>0</td>\n",
       "      <td>1097</td>\n",
       "    </tr>\n",
       "    <tr>\n",
       "      <th>2</th>\n",
       "      <td>M</td>\n",
       "      <td>24 years</td>\n",
       "      <td>$ 31243.56</td>\n",
       "      <td>College_Graduated</td>\n",
       "      <td>0</td>\n",
       "      <td>I</td>\n",
       "      <td>1</td>\n",
       "      <td>1</td>\n",
       "      <td>0</td>\n",
       "      <td>1866</td>\n",
       "    </tr>\n",
       "    <tr>\n",
       "      <th>3</th>\n",
       "      <td>M</td>\n",
       "      <td>24 years</td>\n",
       "      <td>$ 130740.54</td>\n",
       "      <td>College_Graduated</td>\n",
       "      <td>0</td>\n",
       "      <td>I</td>\n",
       "      <td>0</td>\n",
       "      <td>1</td>\n",
       "      <td>0</td>\n",
       "      <td>1440</td>\n",
       "    </tr>\n",
       "    <tr>\n",
       "      <th>4</th>\n",
       "      <td>M</td>\n",
       "      <td>31 years</td>\n",
       "      <td>$ 112975.17</td>\n",
       "      <td>Individuals</td>\n",
       "      <td>0</td>\n",
       "      <td>I</td>\n",
       "      <td>0</td>\n",
       "      <td>0</td>\n",
       "      <td>0</td>\n",
       "      <td>376</td>\n",
       "    </tr>\n",
       "  </tbody>\n",
       "</table>\n",
       "</div>"
      ],
      "text/plain": [
       "  gender       age gross_income            segment num_credit_cards  \\\n",
       "0      M  21 years   $ 79070.91        Individuals                0   \n",
       "1      M  23 years  $ 178270.68  College_Graduated                0   \n",
       "2      M  24 years   $ 31243.56  College_Graduated                0   \n",
       "3      M  24 years  $ 130740.54  College_Graduated                0   \n",
       "4      M  31 years  $ 112975.17        Individuals                0   \n",
       "\n",
       "  tiprel_1mes ind_actividad_cliente num_Products num_loans duration  \n",
       "0           I                     0            1         0     1035  \n",
       "1           I                     0            1         0     1097  \n",
       "2           I                     1            1         0     1866  \n",
       "3           I                     0            1         0     1440  \n",
       "4           I                     0            0         0      376  "
      ]
     },
     "execution_count": 12,
     "metadata": {},
     "output_type": "execute_result"
    }
   ],
   "source": [
    "df=df1.T\n",
    "#df=df1\n",
    "df.head()"
   ]
  },
  {
   "cell_type": "code",
   "execution_count": 13,
   "id": "3e871ec5-eba8-4391-8783-c93562a52540",
   "metadata": {},
   "outputs": [
    {
     "data": {
      "text/html": [
       "<div>\n",
       "<style scoped>\n",
       "    .dataframe tbody tr th:only-of-type {\n",
       "        vertical-align: middle;\n",
       "    }\n",
       "\n",
       "    .dataframe tbody tr th {\n",
       "        vertical-align: top;\n",
       "    }\n",
       "\n",
       "    .dataframe thead th {\n",
       "        text-align: right;\n",
       "    }\n",
       "</style>\n",
       "<table border=\"1\" class=\"dataframe\">\n",
       "  <thead>\n",
       "    <tr style=\"text-align: right;\">\n",
       "      <th></th>\n",
       "      <th>gender</th>\n",
       "      <th>age</th>\n",
       "      <th>gross_income</th>\n",
       "      <th>segment</th>\n",
       "      <th>num_credit_cards</th>\n",
       "      <th>tiprel_1mes</th>\n",
       "      <th>ind_actividad_cliente</th>\n",
       "      <th>num_Products</th>\n",
       "      <th>num_loans</th>\n",
       "      <th>duration</th>\n",
       "    </tr>\n",
       "  </thead>\n",
       "  <tbody>\n",
       "    <tr>\n",
       "      <th>count</th>\n",
       "      <td>54030</td>\n",
       "      <td>54030</td>\n",
       "      <td>54030</td>\n",
       "      <td>54030</td>\n",
       "      <td>54030</td>\n",
       "      <td>54030</td>\n",
       "      <td>54030</td>\n",
       "      <td>54030</td>\n",
       "      <td>54030</td>\n",
       "      <td>54030</td>\n",
       "    </tr>\n",
       "    <tr>\n",
       "      <th>unique</th>\n",
       "      <td>2</td>\n",
       "      <td>110</td>\n",
       "      <td>49994</td>\n",
       "      <td>3</td>\n",
       "      <td>2</td>\n",
       "      <td>2</td>\n",
       "      <td>2</td>\n",
       "      <td>14</td>\n",
       "      <td>2</td>\n",
       "      <td>5677</td>\n",
       "    </tr>\n",
       "    <tr>\n",
       "      <th>top</th>\n",
       "      <td>F</td>\n",
       "      <td>23 years</td>\n",
       "      <td>$ 451931.22</td>\n",
       "      <td>Individuals</td>\n",
       "      <td>0</td>\n",
       "      <td>I</td>\n",
       "      <td>0</td>\n",
       "      <td>1</td>\n",
       "      <td>0</td>\n",
       "      <td>716</td>\n",
       "    </tr>\n",
       "    <tr>\n",
       "      <th>freq</th>\n",
       "      <td>29681</td>\n",
       "      <td>3080</td>\n",
       "      <td>29</td>\n",
       "      <td>32607</td>\n",
       "      <td>51335</td>\n",
       "      <td>29026</td>\n",
       "      <td>28686</td>\n",
       "      <td>27817</td>\n",
       "      <td>53524</td>\n",
       "      <td>226</td>\n",
       "    </tr>\n",
       "  </tbody>\n",
       "</table>\n",
       "</div>"
      ],
      "text/plain": [
       "       gender       age gross_income      segment num_credit_cards  \\\n",
       "count   54030     54030        54030        54030            54030   \n",
       "unique      2       110        49994            3                2   \n",
       "top         F  23 years  $ 451931.22  Individuals                0   \n",
       "freq    29681      3080           29        32607            51335   \n",
       "\n",
       "       tiprel_1mes ind_actividad_cliente num_Products num_loans duration  \n",
       "count        54030                 54030        54030     54030    54030  \n",
       "unique           2                     2           14         2     5677  \n",
       "top              I                     0            1         0      716  \n",
       "freq         29026                 28686        27817     53524      226  "
      ]
     },
     "execution_count": 13,
     "metadata": {},
     "output_type": "execute_result"
    }
   ],
   "source": [
    "df.describe()"
   ]
  },
  {
   "cell_type": "code",
   "execution_count": 14,
   "id": "46ef9c5d-b590-4adb-bef3-5e3096238f96",
   "metadata": {},
   "outputs": [
    {
     "data": {
      "text/plain": [
       "count        54030\n",
       "unique         110\n",
       "top       23 years\n",
       "freq          3080\n",
       "Name: age, dtype: object"
      ]
     },
     "execution_count": 14,
     "metadata": {},
     "output_type": "execute_result"
    }
   ],
   "source": [
    "df['age'].describe()"
   ]
  },
  {
   "cell_type": "code",
   "execution_count": 15,
   "id": "90c957ee-9fdd-42f1-a1f2-92308f7935ba",
   "metadata": {},
   "outputs": [
    {
     "data": {
      "text/plain": [
       "gender                   object\n",
       "age                      object\n",
       "gross_income             object\n",
       "segment                  object\n",
       "num_credit_cards         object\n",
       "tiprel_1mes              object\n",
       "ind_actividad_cliente    object\n",
       "num_Products             object\n",
       "num_loans                object\n",
       "duration                 object\n",
       "dtype: object"
      ]
     },
     "execution_count": 15,
     "metadata": {},
     "output_type": "execute_result"
    }
   ],
   "source": [
    "df.dtypes"
   ]
  },
  {
   "cell_type": "code",
   "execution_count": 16,
   "id": "0a7197d0-25a6-4dcc-b1d3-aa09ed43f79d",
   "metadata": {},
   "outputs": [],
   "source": [
    "df['age'] = df['age'].str.replace('years','')"
   ]
  },
  {
   "cell_type": "code",
   "execution_count": 17,
   "id": "2dbb4f53-5a5a-4411-bf1c-16aee1577abf",
   "metadata": {},
   "outputs": [],
   "source": [
    "df['age'] = df['age'].astype(int)"
   ]
  },
  {
   "cell_type": "code",
   "execution_count": 18,
   "id": "c9913f04-c741-4f0e-95cd-626378b71edc",
   "metadata": {},
   "outputs": [
    {
     "data": {
      "text/plain": [
       "count    54030.000000\n",
       "mean        40.772534\n",
       "std         17.210781\n",
       "min          2.000000\n",
       "25%         25.000000\n",
       "50%         40.000000\n",
       "75%         51.000000\n",
       "max        112.000000\n",
       "Name: age, dtype: float64"
      ]
     },
     "execution_count": 18,
     "metadata": {},
     "output_type": "execute_result"
    }
   ],
   "source": [
    "df['age'].describe()"
   ]
  },
  {
   "cell_type": "code",
   "execution_count": 19,
   "id": "5f18ab14-c00b-4dd3-9da5-7ed783a66945",
   "metadata": {},
   "outputs": [
    {
     "name": "stderr",
     "output_type": "stream",
     "text": [
      "<ipython-input-19-4ecff1c6ae7c>:1: FutureWarning: The default value of regex will change from True to False in a future version. In addition, single character regular expressions will*not* be treated as literal strings when regex=True.\n",
      "  df['gross_income'] = df['gross_income'].str.replace('$','')\n"
     ]
    }
   ],
   "source": [
    "df['gross_income'] = df['gross_income'].str.replace('$','')"
   ]
  },
  {
   "cell_type": "code",
   "execution_count": 20,
   "id": "66a39d41-caa7-44f8-a981-27cca4c3874b",
   "metadata": {},
   "outputs": [],
   "source": [
    "#df['gross_income'] = df['gross_income'].str.replace(',','')"
   ]
  },
  {
   "cell_type": "code",
   "execution_count": 21,
   "id": "b6fec9e8-be4e-4bf2-9125-9b3b297617de",
   "metadata": {},
   "outputs": [],
   "source": [
    "df['gross_income'] = df['gross_income'].astype(float)"
   ]
  },
  {
   "cell_type": "code",
   "execution_count": 22,
   "id": "735989d0-8fcc-48b8-a48a-55927d47eb00",
   "metadata": {},
   "outputs": [
    {
     "data": {
      "text/plain": [
       "count    5.403000e+04\n",
       "mean     1.341967e+05\n",
       "std      2.397215e+05\n",
       "min      2.336010e+03\n",
       "25%      6.858107e+04\n",
       "50%      1.015663e+05\n",
       "75%      1.562538e+05\n",
       "max      2.889440e+07\n",
       "Name: gross_income, dtype: float64"
      ]
     },
     "execution_count": 22,
     "metadata": {},
     "output_type": "execute_result"
    }
   ],
   "source": [
    "df['gross_income'].describe()"
   ]
  },
  {
   "cell_type": "code",
   "execution_count": 23,
   "id": "ccc4cc30-d7ba-4288-8136-0b90f737f04e",
   "metadata": {},
   "outputs": [],
   "source": [
    "df['num_credit_cards'] = df['num_credit_cards'].astype(int)"
   ]
  },
  {
   "cell_type": "code",
   "execution_count": 24,
   "id": "821cbd4f-2da0-42df-9d47-fce2caefd24b",
   "metadata": {},
   "outputs": [],
   "source": [
    "df['ind_actividad_cliente'] = df['ind_actividad_cliente'].astype(int)"
   ]
  },
  {
   "cell_type": "code",
   "execution_count": 25,
   "id": "84a6bba4-db65-4f7b-8943-387411031603",
   "metadata": {},
   "outputs": [],
   "source": [
    "df['num_Products'] = df['num_Products'].astype(int)"
   ]
  },
  {
   "cell_type": "code",
   "execution_count": 26,
   "id": "f95abce0-4008-47a9-b3e0-dcc4b443a263",
   "metadata": {},
   "outputs": [],
   "source": [
    "df['num_loans'] = df['num_loans'].astype(int)"
   ]
  },
  {
   "cell_type": "code",
   "execution_count": 27,
   "id": "33f1619c-8f39-4bfa-beef-61dff117ba13",
   "metadata": {},
   "outputs": [],
   "source": [
    "df['duration'] = df['duration'].astype(int) "
   ]
  },
  {
   "cell_type": "code",
   "execution_count": 28,
   "id": "730ef241-8d5c-428c-b284-f825fb1c8c3d",
   "metadata": {},
   "outputs": [
    {
     "data": {
      "text/html": [
       "<div>\n",
       "<style scoped>\n",
       "    .dataframe tbody tr th:only-of-type {\n",
       "        vertical-align: middle;\n",
       "    }\n",
       "\n",
       "    .dataframe tbody tr th {\n",
       "        vertical-align: top;\n",
       "    }\n",
       "\n",
       "    .dataframe thead th {\n",
       "        text-align: right;\n",
       "    }\n",
       "</style>\n",
       "<table border=\"1\" class=\"dataframe\">\n",
       "  <thead>\n",
       "    <tr style=\"text-align: right;\">\n",
       "      <th></th>\n",
       "      <th>age</th>\n",
       "      <th>gross_income</th>\n",
       "      <th>num_credit_cards</th>\n",
       "      <th>ind_actividad_cliente</th>\n",
       "      <th>num_Products</th>\n",
       "      <th>num_loans</th>\n",
       "      <th>duration</th>\n",
       "    </tr>\n",
       "  </thead>\n",
       "  <tbody>\n",
       "    <tr>\n",
       "      <th>count</th>\n",
       "      <td>54030.000000</td>\n",
       "      <td>5.403000e+04</td>\n",
       "      <td>54030.000000</td>\n",
       "      <td>54030.000000</td>\n",
       "      <td>54030.000000</td>\n",
       "      <td>54030.000000</td>\n",
       "      <td>54030.000000</td>\n",
       "    </tr>\n",
       "    <tr>\n",
       "      <th>mean</th>\n",
       "      <td>40.772534</td>\n",
       "      <td>1.341967e+05</td>\n",
       "      <td>0.049880</td>\n",
       "      <td>0.469073</td>\n",
       "      <td>1.536017</td>\n",
       "      <td>0.009365</td>\n",
       "      <td>2913.936665</td>\n",
       "    </tr>\n",
       "    <tr>\n",
       "      <th>std</th>\n",
       "      <td>17.210781</td>\n",
       "      <td>2.397215e+05</td>\n",
       "      <td>0.217698</td>\n",
       "      <td>0.499047</td>\n",
       "      <td>1.578848</td>\n",
       "      <td>0.096320</td>\n",
       "      <td>2027.956268</td>\n",
       "    </tr>\n",
       "    <tr>\n",
       "      <th>min</th>\n",
       "      <td>2.000000</td>\n",
       "      <td>2.336010e+03</td>\n",
       "      <td>0.000000</td>\n",
       "      <td>0.000000</td>\n",
       "      <td>0.000000</td>\n",
       "      <td>0.000000</td>\n",
       "      <td>366.000000</td>\n",
       "    </tr>\n",
       "    <tr>\n",
       "      <th>25%</th>\n",
       "      <td>25.000000</td>\n",
       "      <td>6.858107e+04</td>\n",
       "      <td>0.000000</td>\n",
       "      <td>0.000000</td>\n",
       "      <td>1.000000</td>\n",
       "      <td>0.000000</td>\n",
       "      <td>1118.000000</td>\n",
       "    </tr>\n",
       "    <tr>\n",
       "      <th>50%</th>\n",
       "      <td>40.000000</td>\n",
       "      <td>1.015663e+05</td>\n",
       "      <td>0.000000</td>\n",
       "      <td>0.000000</td>\n",
       "      <td>1.000000</td>\n",
       "      <td>0.000000</td>\n",
       "      <td>2039.500000</td>\n",
       "    </tr>\n",
       "    <tr>\n",
       "      <th>75%</th>\n",
       "      <td>51.000000</td>\n",
       "      <td>1.562538e+05</td>\n",
       "      <td>0.000000</td>\n",
       "      <td>1.000000</td>\n",
       "      <td>2.000000</td>\n",
       "      <td>0.000000</td>\n",
       "      <td>4693.000000</td>\n",
       "    </tr>\n",
       "    <tr>\n",
       "      <th>max</th>\n",
       "      <td>112.000000</td>\n",
       "      <td>2.889440e+07</td>\n",
       "      <td>1.000000</td>\n",
       "      <td>1.000000</td>\n",
       "      <td>13.000000</td>\n",
       "      <td>1.000000</td>\n",
       "      <td>7909.000000</td>\n",
       "    </tr>\n",
       "  </tbody>\n",
       "</table>\n",
       "</div>"
      ],
      "text/plain": [
       "                age  gross_income  num_credit_cards  ind_actividad_cliente  \\\n",
       "count  54030.000000  5.403000e+04      54030.000000           54030.000000   \n",
       "mean      40.772534  1.341967e+05          0.049880               0.469073   \n",
       "std       17.210781  2.397215e+05          0.217698               0.499047   \n",
       "min        2.000000  2.336010e+03          0.000000               0.000000   \n",
       "25%       25.000000  6.858107e+04          0.000000               0.000000   \n",
       "50%       40.000000  1.015663e+05          0.000000               0.000000   \n",
       "75%       51.000000  1.562538e+05          0.000000               1.000000   \n",
       "max      112.000000  2.889440e+07          1.000000               1.000000   \n",
       "\n",
       "       num_Products     num_loans      duration  \n",
       "count  54030.000000  54030.000000  54030.000000  \n",
       "mean       1.536017      0.009365   2913.936665  \n",
       "std        1.578848      0.096320   2027.956268  \n",
       "min        0.000000      0.000000    366.000000  \n",
       "25%        1.000000      0.000000   1118.000000  \n",
       "50%        1.000000      0.000000   2039.500000  \n",
       "75%        2.000000      0.000000   4693.000000  \n",
       "max       13.000000      1.000000   7909.000000  "
      ]
     },
     "execution_count": 28,
     "metadata": {},
     "output_type": "execute_result"
    }
   ],
   "source": [
    "df.describe()"
   ]
  },
  {
   "cell_type": "code",
   "execution_count": 29,
   "id": "3bb1b314-ab6c-4ff3-ae27-7fa30cb0ff69",
   "metadata": {},
   "outputs": [
    {
     "data": {
      "text/plain": [
       "gender                    object\n",
       "age                        int32\n",
       "gross_income             float64\n",
       "segment                   object\n",
       "num_credit_cards           int32\n",
       "tiprel_1mes               object\n",
       "ind_actividad_cliente      int32\n",
       "num_Products               int32\n",
       "num_loans                  int32\n",
       "duration                   int32\n",
       "dtype: object"
      ]
     },
     "execution_count": 29,
     "metadata": {},
     "output_type": "execute_result"
    }
   ],
   "source": [
    "df.dtypes"
   ]
  },
  {
   "cell_type": "code",
   "execution_count": 30,
   "id": "9c26b707-2b7d-4a24-bc16-148d40345481",
   "metadata": {},
   "outputs": [
    {
     "data": {
      "text/html": [
       "<div>\n",
       "<style scoped>\n",
       "    .dataframe tbody tr th:only-of-type {\n",
       "        vertical-align: middle;\n",
       "    }\n",
       "\n",
       "    .dataframe tbody tr th {\n",
       "        vertical-align: top;\n",
       "    }\n",
       "\n",
       "    .dataframe thead th {\n",
       "        text-align: right;\n",
       "    }\n",
       "</style>\n",
       "<table border=\"1\" class=\"dataframe\">\n",
       "  <thead>\n",
       "    <tr style=\"text-align: right;\">\n",
       "      <th></th>\n",
       "      <th>age</th>\n",
       "      <th>gross_income</th>\n",
       "      <th>num_credit_cards</th>\n",
       "      <th>ind_actividad_cliente</th>\n",
       "      <th>num_Products</th>\n",
       "      <th>num_loans</th>\n",
       "      <th>duration</th>\n",
       "    </tr>\n",
       "  </thead>\n",
       "  <tbody>\n",
       "    <tr>\n",
       "      <th>count</th>\n",
       "      <td>54030.00</td>\n",
       "      <td>54030.00</td>\n",
       "      <td>54030.00</td>\n",
       "      <td>54030.00</td>\n",
       "      <td>54030.00</td>\n",
       "      <td>54030.00</td>\n",
       "      <td>54030.00</td>\n",
       "    </tr>\n",
       "    <tr>\n",
       "      <th>mean</th>\n",
       "      <td>40.77</td>\n",
       "      <td>134196.67</td>\n",
       "      <td>0.05</td>\n",
       "      <td>0.47</td>\n",
       "      <td>1.54</td>\n",
       "      <td>0.01</td>\n",
       "      <td>2913.94</td>\n",
       "    </tr>\n",
       "    <tr>\n",
       "      <th>std</th>\n",
       "      <td>17.21</td>\n",
       "      <td>239721.46</td>\n",
       "      <td>0.22</td>\n",
       "      <td>0.50</td>\n",
       "      <td>1.58</td>\n",
       "      <td>0.10</td>\n",
       "      <td>2027.96</td>\n",
       "    </tr>\n",
       "    <tr>\n",
       "      <th>min</th>\n",
       "      <td>2.00</td>\n",
       "      <td>2336.01</td>\n",
       "      <td>0.00</td>\n",
       "      <td>0.00</td>\n",
       "      <td>0.00</td>\n",
       "      <td>0.00</td>\n",
       "      <td>366.00</td>\n",
       "    </tr>\n",
       "    <tr>\n",
       "      <th>25%</th>\n",
       "      <td>25.00</td>\n",
       "      <td>68581.07</td>\n",
       "      <td>0.00</td>\n",
       "      <td>0.00</td>\n",
       "      <td>1.00</td>\n",
       "      <td>0.00</td>\n",
       "      <td>1118.00</td>\n",
       "    </tr>\n",
       "    <tr>\n",
       "      <th>50%</th>\n",
       "      <td>40.00</td>\n",
       "      <td>101566.32</td>\n",
       "      <td>0.00</td>\n",
       "      <td>0.00</td>\n",
       "      <td>1.00</td>\n",
       "      <td>0.00</td>\n",
       "      <td>2039.50</td>\n",
       "    </tr>\n",
       "    <tr>\n",
       "      <th>75%</th>\n",
       "      <td>51.00</td>\n",
       "      <td>156253.76</td>\n",
       "      <td>0.00</td>\n",
       "      <td>1.00</td>\n",
       "      <td>2.00</td>\n",
       "      <td>0.00</td>\n",
       "      <td>4693.00</td>\n",
       "    </tr>\n",
       "    <tr>\n",
       "      <th>90%</th>\n",
       "      <td>65.00</td>\n",
       "      <td>234387.88</td>\n",
       "      <td>0.00</td>\n",
       "      <td>1.00</td>\n",
       "      <td>3.00</td>\n",
       "      <td>0.00</td>\n",
       "      <td>5844.00</td>\n",
       "    </tr>\n",
       "    <tr>\n",
       "      <th>95%</th>\n",
       "      <td>74.00</td>\n",
       "      <td>310033.37</td>\n",
       "      <td>0.00</td>\n",
       "      <td>1.00</td>\n",
       "      <td>5.00</td>\n",
       "      <td>0.00</td>\n",
       "      <td>6529.00</td>\n",
       "    </tr>\n",
       "    <tr>\n",
       "      <th>max</th>\n",
       "      <td>112.00</td>\n",
       "      <td>28894395.51</td>\n",
       "      <td>1.00</td>\n",
       "      <td>1.00</td>\n",
       "      <td>13.00</td>\n",
       "      <td>1.00</td>\n",
       "      <td>7909.00</td>\n",
       "    </tr>\n",
       "  </tbody>\n",
       "</table>\n",
       "</div>"
      ],
      "text/plain": [
       "            age  gross_income  num_credit_cards  ind_actividad_cliente  \\\n",
       "count  54030.00      54030.00          54030.00               54030.00   \n",
       "mean      40.77     134196.67              0.05                   0.47   \n",
       "std       17.21     239721.46              0.22                   0.50   \n",
       "min        2.00       2336.01              0.00                   0.00   \n",
       "25%       25.00      68581.07              0.00                   0.00   \n",
       "50%       40.00     101566.32              0.00                   0.00   \n",
       "75%       51.00     156253.76              0.00                   1.00   \n",
       "90%       65.00     234387.88              0.00                   1.00   \n",
       "95%       74.00     310033.37              0.00                   1.00   \n",
       "max      112.00   28894395.51              1.00                   1.00   \n",
       "\n",
       "       num_Products  num_loans  duration  \n",
       "count      54030.00   54030.00  54030.00  \n",
       "mean           1.54       0.01   2913.94  \n",
       "std            1.58       0.10   2027.96  \n",
       "min            0.00       0.00    366.00  \n",
       "25%            1.00       0.00   1118.00  \n",
       "50%            1.00       0.00   2039.50  \n",
       "75%            2.00       0.00   4693.00  \n",
       "90%            3.00       0.00   5844.00  \n",
       "95%            5.00       0.00   6529.00  \n",
       "max           13.00       1.00   7909.00  "
      ]
     },
     "execution_count": 30,
     "metadata": {},
     "output_type": "execute_result"
    }
   ],
   "source": [
    "df.describe([0.25,0.75,0.9,0.95]).round(2)"
   ]
  },
  {
   "cell_type": "code",
   "execution_count": 31,
   "id": "627eb1c6-93dc-46c4-9fe9-82fa56700926",
   "metadata": {},
   "outputs": [
    {
     "data": {
      "text/plain": [
       "gender                   0\n",
       "age                      0\n",
       "gross_income             0\n",
       "segment                  0\n",
       "num_credit_cards         0\n",
       "tiprel_1mes              0\n",
       "ind_actividad_cliente    0\n",
       "num_Products             0\n",
       "num_loans                0\n",
       "duration                 0\n",
       "dtype: int64"
      ]
     },
     "execution_count": 31,
     "metadata": {},
     "output_type": "execute_result"
    }
   ],
   "source": [
    "df.isna().sum()"
   ]
  },
  {
   "cell_type": "code",
   "execution_count": 32,
   "id": "e13d6e77-8ec9-4410-bb22-b4ba26933686",
   "metadata": {},
   "outputs": [
    {
     "data": {
      "text/plain": [
       "0"
      ]
     },
     "execution_count": 32,
     "metadata": {},
     "output_type": "execute_result"
    }
   ],
   "source": [
    "(df['gender'] == 0).sum()"
   ]
  },
  {
   "cell_type": "code",
   "execution_count": 33,
   "id": "8e078ddd-b8a6-4728-adf4-a6d1187503ec",
   "metadata": {},
   "outputs": [
    {
     "data": {
      "text/plain": [
       "0        0\n",
       "1        0\n",
       "2        0\n",
       "3        0\n",
       "4        0\n",
       "        ..\n",
       "54025    0\n",
       "54026    1\n",
       "54027    0\n",
       "54028    0\n",
       "54029    1\n",
       "Name: tiprel_1mes, Length: 54030, dtype: int64"
      ]
     },
     "execution_count": 33,
     "metadata": {},
     "output_type": "execute_result"
    }
   ],
   "source": [
    "df['tiprel_1mes'].replace(['I','A'],[0,1])"
   ]
  },
  {
   "cell_type": "code",
   "execution_count": 34,
   "id": "3ed01a90-982c-4cf0-bc1a-492017a270fd",
   "metadata": {},
   "outputs": [
    {
     "data": {
      "text/html": [
       "<div>\n",
       "<style scoped>\n",
       "    .dataframe tbody tr th:only-of-type {\n",
       "        vertical-align: middle;\n",
       "    }\n",
       "\n",
       "    .dataframe tbody tr th {\n",
       "        vertical-align: top;\n",
       "    }\n",
       "\n",
       "    .dataframe thead th {\n",
       "        text-align: right;\n",
       "    }\n",
       "</style>\n",
       "<table border=\"1\" class=\"dataframe\">\n",
       "  <thead>\n",
       "    <tr style=\"text-align: right;\">\n",
       "      <th></th>\n",
       "      <th>gender</th>\n",
       "      <th>age</th>\n",
       "      <th>gross_income</th>\n",
       "      <th>segment</th>\n",
       "      <th>num_credit_cards</th>\n",
       "      <th>tiprel_1mes</th>\n",
       "      <th>ind_actividad_cliente</th>\n",
       "      <th>num_Products</th>\n",
       "      <th>num_loans</th>\n",
       "      <th>duration</th>\n",
       "    </tr>\n",
       "  </thead>\n",
       "  <tbody>\n",
       "    <tr>\n",
       "      <th>0</th>\n",
       "      <td>M</td>\n",
       "      <td>21</td>\n",
       "      <td>79070.91</td>\n",
       "      <td>Individuals</td>\n",
       "      <td>0</td>\n",
       "      <td>0</td>\n",
       "      <td>0</td>\n",
       "      <td>1</td>\n",
       "      <td>0</td>\n",
       "      <td>1035</td>\n",
       "    </tr>\n",
       "    <tr>\n",
       "      <th>1</th>\n",
       "      <td>M</td>\n",
       "      <td>23</td>\n",
       "      <td>178270.68</td>\n",
       "      <td>College_Graduated</td>\n",
       "      <td>0</td>\n",
       "      <td>0</td>\n",
       "      <td>0</td>\n",
       "      <td>1</td>\n",
       "      <td>0</td>\n",
       "      <td>1097</td>\n",
       "    </tr>\n",
       "    <tr>\n",
       "      <th>2</th>\n",
       "      <td>M</td>\n",
       "      <td>24</td>\n",
       "      <td>31243.56</td>\n",
       "      <td>College_Graduated</td>\n",
       "      <td>0</td>\n",
       "      <td>0</td>\n",
       "      <td>1</td>\n",
       "      <td>1</td>\n",
       "      <td>0</td>\n",
       "      <td>1866</td>\n",
       "    </tr>\n",
       "    <tr>\n",
       "      <th>3</th>\n",
       "      <td>M</td>\n",
       "      <td>24</td>\n",
       "      <td>130740.54</td>\n",
       "      <td>College_Graduated</td>\n",
       "      <td>0</td>\n",
       "      <td>0</td>\n",
       "      <td>0</td>\n",
       "      <td>1</td>\n",
       "      <td>0</td>\n",
       "      <td>1440</td>\n",
       "    </tr>\n",
       "    <tr>\n",
       "      <th>4</th>\n",
       "      <td>M</td>\n",
       "      <td>31</td>\n",
       "      <td>112975.17</td>\n",
       "      <td>Individuals</td>\n",
       "      <td>0</td>\n",
       "      <td>0</td>\n",
       "      <td>0</td>\n",
       "      <td>0</td>\n",
       "      <td>0</td>\n",
       "      <td>376</td>\n",
       "    </tr>\n",
       "    <tr>\n",
       "      <th>...</th>\n",
       "      <td>...</td>\n",
       "      <td>...</td>\n",
       "      <td>...</td>\n",
       "      <td>...</td>\n",
       "      <td>...</td>\n",
       "      <td>...</td>\n",
       "      <td>...</td>\n",
       "      <td>...</td>\n",
       "      <td>...</td>\n",
       "      <td>...</td>\n",
       "    </tr>\n",
       "    <tr>\n",
       "      <th>54025</th>\n",
       "      <td>M</td>\n",
       "      <td>24</td>\n",
       "      <td>47237.01</td>\n",
       "      <td>College_Graduated</td>\n",
       "      <td>0</td>\n",
       "      <td>0</td>\n",
       "      <td>1</td>\n",
       "      <td>1</td>\n",
       "      <td>0</td>\n",
       "      <td>1147</td>\n",
       "    </tr>\n",
       "    <tr>\n",
       "      <th>54026</th>\n",
       "      <td>F</td>\n",
       "      <td>46</td>\n",
       "      <td>106930.05</td>\n",
       "      <td>Individuals</td>\n",
       "      <td>1</td>\n",
       "      <td>1</td>\n",
       "      <td>1</td>\n",
       "      <td>8</td>\n",
       "      <td>0</td>\n",
       "      <td>6061</td>\n",
       "    </tr>\n",
       "    <tr>\n",
       "      <th>54027</th>\n",
       "      <td>M</td>\n",
       "      <td>24</td>\n",
       "      <td>185323.05</td>\n",
       "      <td>College_Graduated</td>\n",
       "      <td>0</td>\n",
       "      <td>0</td>\n",
       "      <td>0</td>\n",
       "      <td>0</td>\n",
       "      <td>0</td>\n",
       "      <td>1817</td>\n",
       "    </tr>\n",
       "    <tr>\n",
       "      <th>54028</th>\n",
       "      <td>F</td>\n",
       "      <td>27</td>\n",
       "      <td>65246.79</td>\n",
       "      <td>College_Graduated</td>\n",
       "      <td>0</td>\n",
       "      <td>0</td>\n",
       "      <td>0</td>\n",
       "      <td>1</td>\n",
       "      <td>0</td>\n",
       "      <td>1447</td>\n",
       "    </tr>\n",
       "    <tr>\n",
       "      <th>54029</th>\n",
       "      <td>M</td>\n",
       "      <td>20</td>\n",
       "      <td>180678.48</td>\n",
       "      <td>College_Graduated</td>\n",
       "      <td>0</td>\n",
       "      <td>1</td>\n",
       "      <td>0</td>\n",
       "      <td>1</td>\n",
       "      <td>0</td>\n",
       "      <td>366</td>\n",
       "    </tr>\n",
       "  </tbody>\n",
       "</table>\n",
       "<p>54030 rows × 10 columns</p>\n",
       "</div>"
      ],
      "text/plain": [
       "      gender  age  gross_income            segment  num_credit_cards  \\\n",
       "0          M   21      79070.91        Individuals                 0   \n",
       "1          M   23     178270.68  College_Graduated                 0   \n",
       "2          M   24      31243.56  College_Graduated                 0   \n",
       "3          M   24     130740.54  College_Graduated                 0   \n",
       "4          M   31     112975.17        Individuals                 0   \n",
       "...      ...  ...           ...                ...               ...   \n",
       "54025      M   24      47237.01  College_Graduated                 0   \n",
       "54026      F   46     106930.05        Individuals                 1   \n",
       "54027      M   24     185323.05  College_Graduated                 0   \n",
       "54028      F   27      65246.79  College_Graduated                 0   \n",
       "54029      M   20     180678.48  College_Graduated                 0   \n",
       "\n",
       "       tiprel_1mes  ind_actividad_cliente  num_Products  num_loans  duration  \n",
       "0                0                      0             1          0      1035  \n",
       "1                0                      0             1          0      1097  \n",
       "2                0                      1             1          0      1866  \n",
       "3                0                      0             1          0      1440  \n",
       "4                0                      0             0          0       376  \n",
       "...            ...                    ...           ...        ...       ...  \n",
       "54025            0                      1             1          0      1147  \n",
       "54026            1                      1             8          0      6061  \n",
       "54027            0                      0             0          0      1817  \n",
       "54028            0                      0             1          0      1447  \n",
       "54029            1                      0             1          0       366  \n",
       "\n",
       "[54030 rows x 10 columns]"
      ]
     },
     "execution_count": 34,
     "metadata": {},
     "output_type": "execute_result"
    }
   ],
   "source": [
    "df.replace({'tiprel_1mes':{'A':1,'I':0}})"
   ]
  },
  {
   "cell_type": "code",
   "execution_count": 35,
   "id": "9ef35dc2-5a55-4e03-ba76-230e4d68fe52",
   "metadata": {},
   "outputs": [],
   "source": [
    "df['tiprel_1mes']=df['tiprel_1mes'].replace(['A','I'],[1,0])"
   ]
  },
  {
   "cell_type": "code",
   "execution_count": 36,
   "id": "fad7587f-47af-4197-b69f-03805d26df1d",
   "metadata": {},
   "outputs": [
    {
     "data": {
      "text/html": [
       "<div>\n",
       "<style scoped>\n",
       "    .dataframe tbody tr th:only-of-type {\n",
       "        vertical-align: middle;\n",
       "    }\n",
       "\n",
       "    .dataframe tbody tr th {\n",
       "        vertical-align: top;\n",
       "    }\n",
       "\n",
       "    .dataframe thead th {\n",
       "        text-align: right;\n",
       "    }\n",
       "</style>\n",
       "<table border=\"1\" class=\"dataframe\">\n",
       "  <thead>\n",
       "    <tr style=\"text-align: right;\">\n",
       "      <th></th>\n",
       "      <th>gender</th>\n",
       "      <th>age</th>\n",
       "      <th>gross_income</th>\n",
       "      <th>segment</th>\n",
       "      <th>num_credit_cards</th>\n",
       "      <th>tiprel_1mes</th>\n",
       "      <th>ind_actividad_cliente</th>\n",
       "      <th>num_Products</th>\n",
       "      <th>num_loans</th>\n",
       "      <th>duration</th>\n",
       "    </tr>\n",
       "  </thead>\n",
       "  <tbody>\n",
       "    <tr>\n",
       "      <th>0</th>\n",
       "      <td>M</td>\n",
       "      <td>21</td>\n",
       "      <td>79070.91</td>\n",
       "      <td>Individuals</td>\n",
       "      <td>0</td>\n",
       "      <td>0</td>\n",
       "      <td>0</td>\n",
       "      <td>1</td>\n",
       "      <td>0</td>\n",
       "      <td>1035</td>\n",
       "    </tr>\n",
       "    <tr>\n",
       "      <th>1</th>\n",
       "      <td>M</td>\n",
       "      <td>23</td>\n",
       "      <td>178270.68</td>\n",
       "      <td>College_Graduated</td>\n",
       "      <td>0</td>\n",
       "      <td>0</td>\n",
       "      <td>0</td>\n",
       "      <td>1</td>\n",
       "      <td>0</td>\n",
       "      <td>1097</td>\n",
       "    </tr>\n",
       "    <tr>\n",
       "      <th>2</th>\n",
       "      <td>M</td>\n",
       "      <td>24</td>\n",
       "      <td>31243.56</td>\n",
       "      <td>College_Graduated</td>\n",
       "      <td>0</td>\n",
       "      <td>0</td>\n",
       "      <td>1</td>\n",
       "      <td>1</td>\n",
       "      <td>0</td>\n",
       "      <td>1866</td>\n",
       "    </tr>\n",
       "    <tr>\n",
       "      <th>3</th>\n",
       "      <td>M</td>\n",
       "      <td>24</td>\n",
       "      <td>130740.54</td>\n",
       "      <td>College_Graduated</td>\n",
       "      <td>0</td>\n",
       "      <td>0</td>\n",
       "      <td>0</td>\n",
       "      <td>1</td>\n",
       "      <td>0</td>\n",
       "      <td>1440</td>\n",
       "    </tr>\n",
       "    <tr>\n",
       "      <th>4</th>\n",
       "      <td>M</td>\n",
       "      <td>31</td>\n",
       "      <td>112975.17</td>\n",
       "      <td>Individuals</td>\n",
       "      <td>0</td>\n",
       "      <td>0</td>\n",
       "      <td>0</td>\n",
       "      <td>0</td>\n",
       "      <td>0</td>\n",
       "      <td>376</td>\n",
       "    </tr>\n",
       "  </tbody>\n",
       "</table>\n",
       "</div>"
      ],
      "text/plain": [
       "  gender  age  gross_income            segment  num_credit_cards  tiprel_1mes  \\\n",
       "0      M   21      79070.91        Individuals                 0            0   \n",
       "1      M   23     178270.68  College_Graduated                 0            0   \n",
       "2      M   24      31243.56  College_Graduated                 0            0   \n",
       "3      M   24     130740.54  College_Graduated                 0            0   \n",
       "4      M   31     112975.17        Individuals                 0            0   \n",
       "\n",
       "   ind_actividad_cliente  num_Products  num_loans  duration  \n",
       "0                      0             1          0      1035  \n",
       "1                      0             1          0      1097  \n",
       "2                      1             1          0      1866  \n",
       "3                      0             1          0      1440  \n",
       "4                      0             0          0       376  "
      ]
     },
     "execution_count": 36,
     "metadata": {},
     "output_type": "execute_result"
    }
   ],
   "source": [
    "df.head()"
   ]
  },
  {
   "cell_type": "code",
   "execution_count": 37,
   "id": "ed4db18b-6c32-43a9-816e-8846fff78bf3",
   "metadata": {},
   "outputs": [
    {
     "data": {
      "text/plain": [
       "tiprel_1mes  ind_actividad_cliente  gender\n",
       "0            0                      F         13755\n",
       "                                    M         12833\n",
       "             1                      F          1294\n",
       "                                    M          1144\n",
       "1            0                      F          1275\n",
       "                                    M           823\n",
       "             1                      F         13357\n",
       "                                    M          9549\n",
       "dtype: int64"
      ]
     },
     "execution_count": 37,
     "metadata": {},
     "output_type": "execute_result"
    }
   ],
   "source": [
    "df.groupby(['tiprel_1mes','ind_actividad_cliente','gender']).size()"
   ]
  },
  {
   "cell_type": "code",
   "execution_count": 38,
   "id": "5db5315f-a9a3-4959-9d6a-953c70298401",
   "metadata": {},
   "outputs": [],
   "source": [
    "bin_labels = ['<20','20-40','40-60','60-80','80-100','>100']"
   ]
  },
  {
   "cell_type": "code",
   "execution_count": 39,
   "id": "024884bb-2e2e-4ff8-9044-cd5e706ef68a",
   "metadata": {},
   "outputs": [],
   "source": [
    "df['age_bins'] = pd.cut(df['age'],[0,20,40,60,80,100,120],right=False,labels = bin_labels)"
   ]
  },
  {
   "cell_type": "code",
   "execution_count": 40,
   "id": "6c2d7cad-ce80-43b2-916e-4edf135a93ad",
   "metadata": {},
   "outputs": [
    {
     "data": {
      "text/html": [
       "<div>\n",
       "<style scoped>\n",
       "    .dataframe tbody tr th:only-of-type {\n",
       "        vertical-align: middle;\n",
       "    }\n",
       "\n",
       "    .dataframe tbody tr th {\n",
       "        vertical-align: top;\n",
       "    }\n",
       "\n",
       "    .dataframe thead th {\n",
       "        text-align: right;\n",
       "    }\n",
       "</style>\n",
       "<table border=\"1\" class=\"dataframe\">\n",
       "  <thead>\n",
       "    <tr style=\"text-align: right;\">\n",
       "      <th></th>\n",
       "      <th>gender</th>\n",
       "      <th>age</th>\n",
       "      <th>gross_income</th>\n",
       "      <th>segment</th>\n",
       "      <th>num_credit_cards</th>\n",
       "      <th>tiprel_1mes</th>\n",
       "      <th>ind_actividad_cliente</th>\n",
       "      <th>num_Products</th>\n",
       "      <th>num_loans</th>\n",
       "      <th>duration</th>\n",
       "      <th>age_bins</th>\n",
       "    </tr>\n",
       "  </thead>\n",
       "  <tbody>\n",
       "    <tr>\n",
       "      <th>0</th>\n",
       "      <td>M</td>\n",
       "      <td>21</td>\n",
       "      <td>79070.91</td>\n",
       "      <td>Individuals</td>\n",
       "      <td>0</td>\n",
       "      <td>0</td>\n",
       "      <td>0</td>\n",
       "      <td>1</td>\n",
       "      <td>0</td>\n",
       "      <td>1035</td>\n",
       "      <td>20-40</td>\n",
       "    </tr>\n",
       "    <tr>\n",
       "      <th>1</th>\n",
       "      <td>M</td>\n",
       "      <td>23</td>\n",
       "      <td>178270.68</td>\n",
       "      <td>College_Graduated</td>\n",
       "      <td>0</td>\n",
       "      <td>0</td>\n",
       "      <td>0</td>\n",
       "      <td>1</td>\n",
       "      <td>0</td>\n",
       "      <td>1097</td>\n",
       "      <td>20-40</td>\n",
       "    </tr>\n",
       "    <tr>\n",
       "      <th>2</th>\n",
       "      <td>M</td>\n",
       "      <td>24</td>\n",
       "      <td>31243.56</td>\n",
       "      <td>College_Graduated</td>\n",
       "      <td>0</td>\n",
       "      <td>0</td>\n",
       "      <td>1</td>\n",
       "      <td>1</td>\n",
       "      <td>0</td>\n",
       "      <td>1866</td>\n",
       "      <td>20-40</td>\n",
       "    </tr>\n",
       "    <tr>\n",
       "      <th>3</th>\n",
       "      <td>M</td>\n",
       "      <td>24</td>\n",
       "      <td>130740.54</td>\n",
       "      <td>College_Graduated</td>\n",
       "      <td>0</td>\n",
       "      <td>0</td>\n",
       "      <td>0</td>\n",
       "      <td>1</td>\n",
       "      <td>0</td>\n",
       "      <td>1440</td>\n",
       "      <td>20-40</td>\n",
       "    </tr>\n",
       "    <tr>\n",
       "      <th>4</th>\n",
       "      <td>M</td>\n",
       "      <td>31</td>\n",
       "      <td>112975.17</td>\n",
       "      <td>Individuals</td>\n",
       "      <td>0</td>\n",
       "      <td>0</td>\n",
       "      <td>0</td>\n",
       "      <td>0</td>\n",
       "      <td>0</td>\n",
       "      <td>376</td>\n",
       "      <td>20-40</td>\n",
       "    </tr>\n",
       "  </tbody>\n",
       "</table>\n",
       "</div>"
      ],
      "text/plain": [
       "  gender  age  gross_income            segment  num_credit_cards  tiprel_1mes  \\\n",
       "0      M   21      79070.91        Individuals                 0            0   \n",
       "1      M   23     178270.68  College_Graduated                 0            0   \n",
       "2      M   24      31243.56  College_Graduated                 0            0   \n",
       "3      M   24     130740.54  College_Graduated                 0            0   \n",
       "4      M   31     112975.17        Individuals                 0            0   \n",
       "\n",
       "   ind_actividad_cliente  num_Products  num_loans  duration age_bins  \n",
       "0                      0             1          0      1035    20-40  \n",
       "1                      0             1          0      1097    20-40  \n",
       "2                      1             1          0      1866    20-40  \n",
       "3                      0             1          0      1440    20-40  \n",
       "4                      0             0          0       376    20-40  "
      ]
     },
     "execution_count": 40,
     "metadata": {},
     "output_type": "execute_result"
    }
   ],
   "source": [
    "df.head()"
   ]
  },
  {
   "cell_type": "code",
   "execution_count": 41,
   "id": "b82ade76-52a9-4694-bd2e-5be3ac5d6311",
   "metadata": {},
   "outputs": [
    {
     "data": {
      "text/plain": [
       "0"
      ]
     },
     "execution_count": 41,
     "metadata": {},
     "output_type": "execute_result"
    }
   ],
   "source": [
    "df['age_bins'].isna().sum()"
   ]
  },
  {
   "cell_type": "code",
   "execution_count": 42,
   "id": "12ee1dbc-572b-471c-919d-b05a39669fbf",
   "metadata": {},
   "outputs": [],
   "source": [
    "#df['converted']=df['tiprel_1mes']==0&&df['ind_actividad_cliente']==1"
   ]
  },
  {
   "cell_type": "code",
   "execution_count": 43,
   "id": "867c9b2b-ed55-4eb6-8419-c81af2c5ebe4",
   "metadata": {},
   "outputs": [],
   "source": [
    "import numpy as np"
   ]
  },
  {
   "cell_type": "code",
   "execution_count": null,
   "id": "977c0306-cf58-4d3d-8513-0fa0996246ee",
   "metadata": {},
   "outputs": [],
   "source": []
  },
  {
   "cell_type": "code",
   "execution_count": 44,
   "id": "be3895ff-5291-4112-9ea0-9fa8aa70912a",
   "metadata": {},
   "outputs": [
    {
     "data": {
      "text/plain": [
       "tiprel_1mes  ind_actividad_cliente  age_bins\n",
       "0            0                      <20           161\n",
       "                                    20-40       15774\n",
       "                                    40-60        7166\n",
       "                                    60-80        2659\n",
       "                                    80-100        777\n",
       "                                    >100           51\n",
       "             1                      <20            20\n",
       "                                    20-40        1292\n",
       "                                    40-60         779\n",
       "                                    60-80         265\n",
       "                                    80-100         78\n",
       "                                    >100            4\n",
       "1            0                      <20            12\n",
       "                                    20-40         836\n",
       "                                    40-60         817\n",
       "                                    60-80         324\n",
       "                                    80-100        104\n",
       "                                    >100            5\n",
       "             1                      <20           468\n",
       "                                    20-40        8368\n",
       "                                    40-60       10666\n",
       "                                    60-80        2752\n",
       "                                    80-100        640\n",
       "                                    >100           12\n",
       "dtype: int64"
      ]
     },
     "execution_count": 44,
     "metadata": {},
     "output_type": "execute_result"
    }
   ],
   "source": [
    "df.groupby(['tiprel_1mes','ind_actividad_cliente','age_bins']).size()"
   ]
  },
  {
   "cell_type": "code",
   "execution_count": 45,
   "id": "5a781cb7-339e-46f3-b1dd-4533bfc81fd0",
   "metadata": {},
   "outputs": [
    {
     "data": {
      "text/plain": [
       "0"
      ]
     },
     "execution_count": 45,
     "metadata": {},
     "output_type": "execute_result"
    }
   ],
   "source": [
    "df.isna().sum(axis=1).sum()"
   ]
  },
  {
   "cell_type": "code",
   "execution_count": 46,
   "id": "b0b7c5c6-69a8-43b0-8eec-3c81658de7d3",
   "metadata": {},
   "outputs": [],
   "source": [
    "inact = df['tiprel_1mes']==0\n",
    "inactive = df[inact]\n",
    "conv = inactive['ind_actividad_cliente']==1\n",
    "convert = inactive[conv]"
   ]
  },
  {
   "cell_type": "code",
   "execution_count": 47,
   "id": "36746ad3-0b55-44d9-a4ae-24dc28895f17",
   "metadata": {},
   "outputs": [
    {
     "data": {
      "image/png": "[encoded data removed]",
      "text/plain": [
       "<Figure size 432x288 with 1 Axes>"
      ]
     },
     "metadata": {
      "needs_background": "light"
     },
     "output_type": "display_data"
    }
   ],
   "source": [
    "import matplotlib.pyplot as plt\n",
    "import seaborn as sns\n",
    "plt.hist(convert['gender'])\n",
    "plt.show()"
   ]
  },
  {
   "cell_type": "code",
   "execution_count": 48,
   "id": "a6e85920-e99b-47e0-a273-0e0e66d10041",
   "metadata": {},
   "outputs": [
    {
     "data": {
      "image/png": "[encoded data removed]",
      "text/plain": [
       "<Figure size 432x288 with 1 Axes>"
      ]
     },
     "metadata": {
      "needs_background": "light"
     },
     "output_type": "display_data"
    }
   ],
   "source": [
    "plt.hist(convert['age'])\n",
    "plt.show()"
   ]
  },
  {
   "cell_type": "code",
   "execution_count": 49,
   "id": "415811f3-50e6-4e32-b64c-a4977b509158",
   "metadata": {},
   "outputs": [],
   "source": [
    "#plt.plot(df['gender'],df['tiprel_1mes']==0,color='r', label='sin')\n",
    "#plt.plot(df['gender'],df['ind_actividad_cliente']==1, color='g', label='cos')\n",
    "#plt.show()"
   ]
  },
  {
   "cell_type": "code",
   "execution_count": 50,
   "id": "d52b121e-e131-4b47-a554-abe3c0403dc5",
   "metadata": {},
   "outputs": [],
   "source": [
    "x = df['gender']\n",
    "y1 = df['tiprel_1mes']==0\n",
    "y2 = df['ind_actividad_cliente']==1"
   ]
  },
  {
   "cell_type": "code",
   "execution_count": 118,
   "id": "a2cb29db-ceb9-4290-afca-52548b03fa28",
   "metadata": {},
   "outputs": [
    {
     "data": {
      "text/plain": [
       "gender  ind_actividad_cliente\n",
       "F       1                        1294\n",
       "M       1                        1144\n",
       "dtype: int64"
      ]
     },
     "execution_count": 118,
     "metadata": {},
     "output_type": "execute_result"
    }
   ],
   "source": [
    "a=df[(df['tiprel_1mes']==0) & (df['ind_actividad_cliente']==1)]\n",
    "d=a.groupby(['gender','ind_actividad_cliente']).size()\n",
    "d"
   ]
  },
  {
   "cell_type": "code",
   "execution_count": 119,
   "id": "48f0bf8e-aaa0-4481-a0f6-a8f64e2c2be3",
   "metadata": {},
   "outputs": [
    {
     "data": {
      "text/plain": [
       "gender  tiprel_1mes\n",
       "F       0              15049\n",
       "M       0              13977\n",
       "dtype: int64"
      ]
     },
     "execution_count": 119,
     "metadata": {},
     "output_type": "execute_result"
    }
   ],
   "source": [
    "b=df[df['tiprel_1mes']==0]\n",
    "c=b.groupby(['gender','tiprel_1mes']).size()\n",
    "c"
   ]
  },
  {
   "cell_type": "code",
   "execution_count": 143,
   "id": "c69dd609-e568-4101-b909-2061faa239d8",
   "metadata": {},
   "outputs": [
    {
     "data": {
      "text/plain": [
       "([<matplotlib.axis.XTick at 0x134557deb0>,\n",
       "  <matplotlib.axis.XTick at 0x134557de80>],\n",
       " [Text(2.0, 0, 'F'), Text(2.75, 0, 'M')])"
      ]
     },
     "execution_count": 143,
     "metadata": {},
     "output_type": "execute_result"
    },
    {
     "data": {
      "image/png": "[encoded data removed]",
      "text/plain": [
       "<Figure size 432x288 with 1 Axes>"
      ]
     },
     "metadata": {
      "needs_background": "light"
     },
     "output_type": "display_data"
    }
   ],
   "source": [
    "X = 2\n",
    "fig = plt.figure()\n",
    "ax = fig.add_axes([0,0,1,1])\n",
    "ax.bar(X + 0.00, c, color = 'b', width = 0.25)\n",
    "ax.bar(X + 0.25, d, color = 'g', width = 0.25)\n",
    "ax.bar(X + 0.75, c[1], color = 'b', width = 0.25)\n",
    "ax.bar(X + 1, d[1], color = 'g', width = 0.25)\n",
    "plt.xticks([2,2.75],['F','M'])"
   ]
  },
  {
   "cell_type": "code",
   "execution_count": 52,
   "id": "f5079c65-acad-42f4-a09c-f8f4d75b9643",
   "metadata": {},
   "outputs": [
    {
     "data": {
      "text/html": [
       "<div>\n",
       "<style scoped>\n",
       "    .dataframe tbody tr th:only-of-type {\n",
       "        vertical-align: middle;\n",
       "    }\n",
       "\n",
       "    .dataframe tbody tr th {\n",
       "        vertical-align: top;\n",
       "    }\n",
       "\n",
       "    .dataframe thead th {\n",
       "        text-align: right;\n",
       "    }\n",
       "</style>\n",
       "<table border=\"1\" class=\"dataframe\">\n",
       "  <thead>\n",
       "    <tr style=\"text-align: right;\">\n",
       "      <th></th>\n",
       "      <th>gender</th>\n",
       "      <th>tiprel_1mes</th>\n",
       "      <th>ind_actividad_cliente</th>\n",
       "    </tr>\n",
       "  </thead>\n",
       "  <tbody>\n",
       "    <tr>\n",
       "      <th>2</th>\n",
       "      <td>M</td>\n",
       "      <td>0</td>\n",
       "      <td>1</td>\n",
       "    </tr>\n",
       "    <tr>\n",
       "      <th>9</th>\n",
       "      <td>M</td>\n",
       "      <td>0</td>\n",
       "      <td>1</td>\n",
       "    </tr>\n",
       "    <tr>\n",
       "      <th>97</th>\n",
       "      <td>F</td>\n",
       "      <td>0</td>\n",
       "      <td>1</td>\n",
       "    </tr>\n",
       "    <tr>\n",
       "      <th>119</th>\n",
       "      <td>M</td>\n",
       "      <td>0</td>\n",
       "      <td>1</td>\n",
       "    </tr>\n",
       "    <tr>\n",
       "      <th>165</th>\n",
       "      <td>M</td>\n",
       "      <td>0</td>\n",
       "      <td>1</td>\n",
       "    </tr>\n",
       "    <tr>\n",
       "      <th>...</th>\n",
       "      <td>...</td>\n",
       "      <td>...</td>\n",
       "      <td>...</td>\n",
       "    </tr>\n",
       "    <tr>\n",
       "      <th>53955</th>\n",
       "      <td>F</td>\n",
       "      <td>0</td>\n",
       "      <td>1</td>\n",
       "    </tr>\n",
       "    <tr>\n",
       "      <th>53979</th>\n",
       "      <td>M</td>\n",
       "      <td>0</td>\n",
       "      <td>1</td>\n",
       "    </tr>\n",
       "    <tr>\n",
       "      <th>53992</th>\n",
       "      <td>M</td>\n",
       "      <td>0</td>\n",
       "      <td>1</td>\n",
       "    </tr>\n",
       "    <tr>\n",
       "      <th>54013</th>\n",
       "      <td>F</td>\n",
       "      <td>0</td>\n",
       "      <td>1</td>\n",
       "    </tr>\n",
       "    <tr>\n",
       "      <th>54025</th>\n",
       "      <td>M</td>\n",
       "      <td>0</td>\n",
       "      <td>1</td>\n",
       "    </tr>\n",
       "  </tbody>\n",
       "</table>\n",
       "<p>2438 rows × 3 columns</p>\n",
       "</div>"
      ],
      "text/plain": [
       "      gender  tiprel_1mes  ind_actividad_cliente\n",
       "2          M            0                      1\n",
       "9          M            0                      1\n",
       "97         F            0                      1\n",
       "119        M            0                      1\n",
       "165        M            0                      1\n",
       "...      ...          ...                    ...\n",
       "53955      F            0                      1\n",
       "53979      M            0                      1\n",
       "53992      M            0                      1\n",
       "54013      F            0                      1\n",
       "54025      M            0                      1\n",
       "\n",
       "[2438 rows x 3 columns]"
      ]
     },
     "execution_count": 52,
     "metadata": {},
     "output_type": "execute_result"
    }
   ],
   "source": [
    "b=a[['gender','tiprel_1mes','ind_actividad_cliente']]\n",
    "b"
   ]
  },
  {
   "cell_type": "code",
   "execution_count": 92,
   "id": "58f5368e-590e-4396-ba1d-37d0413ca9a2",
   "metadata": {},
   "outputs": [
    {
     "data": {
      "text/plain": [
       "gender  ind_actividad_cliente\n",
       "F       False                    15030\n",
       "        True                     14651\n",
       "M       False                    13656\n",
       "        True                     10693\n",
       "dtype: int64"
      ]
     },
     "execution_count": 92,
     "metadata": {},
     "output_type": "execute_result"
    }
   ],
   "source": [
    "c=df.groupby(['gender',df['ind_actividad_cliente']==1]).size()\n",
    "d=df.groupby('gender',['tiprel_1mes']==0).size()\n",
    "c"
   ]
  },
  {
   "cell_type": "code",
   "execution_count": 88,
   "id": "1edc3aa0-dc53-415f-9d81-13a3475dcd8a",
   "metadata": {},
   "outputs": [
    {
     "data": {
      "text/plain": [
       "0        False\n",
       "1        False\n",
       "2         True\n",
       "3        False\n",
       "4        False\n",
       "         ...  \n",
       "54025     True\n",
       "54026     True\n",
       "54027    False\n",
       "54028    False\n",
       "54029    False\n",
       "Name: ind_actividad_cliente, Length: 54030, dtype: bool"
      ]
     },
     "execution_count": 88,
     "metadata": {},
     "output_type": "execute_result"
    }
   ],
   "source": [
    "(df['ind_actividad_cliente']==1)"
   ]
  },
  {
   "cell_type": "code",
   "execution_count": 54,
   "id": "d55a7ce7-6e05-4917-8b48-3ad818ae97f3",
   "metadata": {},
   "outputs": [
    {
     "data": {
      "image/png": "[encoded data removed]",
      "text/plain": [
       "<Figure size 432x288 with 1 Axes>"
      ]
     },
     "metadata": {
      "needs_background": "light"
     },
     "output_type": "display_data"
    }
   ],
   "source": [
    "#plt.bar(df['gender'], df['tiprel_1mes']==0, color='b')\n",
    "#plt.bar(df['gender'], df['ind_actividad_cliente']==1, bottom = df['tiprel_1mes']==0,color='y')\n",
    "plt.bar(x, y1, color='r')\n",
    "plt.bar(x, y2, bottom=y1, color='b')\n",
    "plt.show()"
   ]
  },
  {
   "cell_type": "code",
   "execution_count": 55,
   "id": "43bff41c-166a-4e08-a071-644a88faf897",
   "metadata": {},
   "outputs": [
    {
     "data": {
      "text/plain": [
       "count    5.403000e+04\n",
       "mean     1.341967e+05\n",
       "std      2.397215e+05\n",
       "min      2.336010e+03\n",
       "25%      6.858107e+04\n",
       "50%      1.015663e+05\n",
       "75%      1.562538e+05\n",
       "max      2.889440e+07\n",
       "Name: gross_income, dtype: float64"
      ]
     },
     "execution_count": 55,
     "metadata": {},
     "output_type": "execute_result"
    }
   ],
   "source": [
    "df['gross_income'].describe()"
   ]
  },
  {
   "cell_type": "code",
   "execution_count": 148,
   "id": "765301b0-151f-401a-900e-11f543e66690",
   "metadata": {},
   "outputs": [],
   "source": [
    "more=df['gross_income']>df['gross_income'].mean()"
   ]
  },
  {
   "cell_type": "code",
   "execution_count": 155,
   "id": "488938ad-0af5-4583-a7e0-c2d504fc0124",
   "metadata": {},
   "outputs": [
    {
     "data": {
      "image/png": "[encoded data removed]",
      "text/plain": [
       "<Figure size 432x288 with 1 Axes>"
      ]
     },
     "metadata": {
      "needs_background": "light"
     },
     "output_type": "display_data"
    }
   ],
   "source": [
    "plt.hist(df['age'],label=\"Actual\")\n",
    "plt.hist(inactive['age'],label=\"convert\")\n",
    "plt.legend()\n",
    "plt.show()"
   ]
  },
  {
   "cell_type": "code",
   "execution_count": 164,
   "id": "7d4bc239-0d7d-4f5f-b370-b8a669bfe5ba",
   "metadata": {},
   "outputs": [
    {
     "data": {
      "text/plain": [
       "<AxesSubplot:xlabel='num_Products'>"
      ]
     },
     "execution_count": 164,
     "metadata": {},
     "output_type": "execute_result"
    },
    {
     "data": {
      "image/png": "[encoded data removed]",
      "text/plain": [
       "<Figure size 432x288 with 1 Axes>"
      ]
     },
     "metadata": {
      "needs_background": "light"
     },
     "output_type": "display_data"
    }
   ],
   "source": [
    "df.groupby('num_Products')['gross_income'].mean().plot(kind='bar')"
   ]
  },
  {
   "cell_type": "code",
   "execution_count": 158,
   "id": "94b936b3-f2c8-40fe-ba12-4dfc57d0d1b8",
   "metadata": {},
   "outputs": [
    {
     "data": {
      "text/plain": [
       "array([ 1,  0,  4,  2,  7,  3,  5,  6,  9,  8, 10, 12, 11, 13])"
      ]
     },
     "execution_count": 158,
     "metadata": {},
     "output_type": "execute_result"
    }
   ],
   "source": [
    "df['num_Products'].unique()"
   ]
  },
  {
   "cell_type": "code",
   "execution_count": 215,
   "id": "48731673-e2b5-4179-affa-fd3f78ffb941",
   "metadata": {},
   "outputs": [],
   "source": [
    "df.loc[(df['tiprel_1mes'] == 1) & (df['ind_actividad_cliente'] == 1),'Status'] = 'Active' \n",
    "df.loc[(df['tiprel_1mes'] == 1) & (df['ind_actividad_cliente'] != 1),'Status'] = 'Inactive' "
   ]
  },
  {
   "cell_type": "code",
   "execution_count": 216,
   "id": "acc7739e-bda9-4fef-917a-e220a8ea90a9",
   "metadata": {},
   "outputs": [
    {
     "data": {
      "text/html": [
       "<div>\n",
       "<style scoped>\n",
       "    .dataframe tbody tr th:only-of-type {\n",
       "        vertical-align: middle;\n",
       "    }\n",
       "\n",
       "    .dataframe tbody tr th {\n",
       "        vertical-align: top;\n",
       "    }\n",
       "\n",
       "    .dataframe thead th {\n",
       "        text-align: right;\n",
       "    }\n",
       "</style>\n",
       "<table border=\"1\" class=\"dataframe\">\n",
       "  <thead>\n",
       "    <tr style=\"text-align: right;\">\n",
       "      <th></th>\n",
       "      <th>gender</th>\n",
       "      <th>age</th>\n",
       "      <th>gross_income</th>\n",
       "      <th>segment</th>\n",
       "      <th>num_credit_cards</th>\n",
       "      <th>tiprel_1mes</th>\n",
       "      <th>ind_actividad_cliente</th>\n",
       "      <th>num_Products</th>\n",
       "      <th>num_loans</th>\n",
       "      <th>duration</th>\n",
       "      <th>age_bins</th>\n",
       "      <th>Status</th>\n",
       "      <th>consistancy</th>\n",
       "    </tr>\n",
       "  </thead>\n",
       "  <tbody>\n",
       "    <tr>\n",
       "      <th>0</th>\n",
       "      <td>M</td>\n",
       "      <td>21</td>\n",
       "      <td>79070.91</td>\n",
       "      <td>Individuals</td>\n",
       "      <td>0</td>\n",
       "      <td>0</td>\n",
       "      <td>0</td>\n",
       "      <td>1</td>\n",
       "      <td>0</td>\n",
       "      <td>1035</td>\n",
       "      <td>20-40</td>\n",
       "      <td>consistant</td>\n",
       "      <td>consistant</td>\n",
       "    </tr>\n",
       "    <tr>\n",
       "      <th>1</th>\n",
       "      <td>M</td>\n",
       "      <td>23</td>\n",
       "      <td>178270.68</td>\n",
       "      <td>College_Graduated</td>\n",
       "      <td>0</td>\n",
       "      <td>0</td>\n",
       "      <td>0</td>\n",
       "      <td>1</td>\n",
       "      <td>0</td>\n",
       "      <td>1097</td>\n",
       "      <td>20-40</td>\n",
       "      <td>consistant</td>\n",
       "      <td>consistant</td>\n",
       "    </tr>\n",
       "    <tr>\n",
       "      <th>2</th>\n",
       "      <td>M</td>\n",
       "      <td>24</td>\n",
       "      <td>31243.56</td>\n",
       "      <td>College_Graduated</td>\n",
       "      <td>0</td>\n",
       "      <td>0</td>\n",
       "      <td>1</td>\n",
       "      <td>1</td>\n",
       "      <td>0</td>\n",
       "      <td>1866</td>\n",
       "      <td>20-40</td>\n",
       "      <td>NA</td>\n",
       "      <td>NaN</td>\n",
       "    </tr>\n",
       "    <tr>\n",
       "      <th>3</th>\n",
       "      <td>M</td>\n",
       "      <td>24</td>\n",
       "      <td>130740.54</td>\n",
       "      <td>College_Graduated</td>\n",
       "      <td>0</td>\n",
       "      <td>0</td>\n",
       "      <td>0</td>\n",
       "      <td>1</td>\n",
       "      <td>0</td>\n",
       "      <td>1440</td>\n",
       "      <td>20-40</td>\n",
       "      <td>consistant</td>\n",
       "      <td>consistant</td>\n",
       "    </tr>\n",
       "    <tr>\n",
       "      <th>4</th>\n",
       "      <td>M</td>\n",
       "      <td>31</td>\n",
       "      <td>112975.17</td>\n",
       "      <td>Individuals</td>\n",
       "      <td>0</td>\n",
       "      <td>0</td>\n",
       "      <td>0</td>\n",
       "      <td>0</td>\n",
       "      <td>0</td>\n",
       "      <td>376</td>\n",
       "      <td>20-40</td>\n",
       "      <td>consistant</td>\n",
       "      <td>consistant</td>\n",
       "    </tr>\n",
       "  </tbody>\n",
       "</table>\n",
       "</div>"
      ],
      "text/plain": [
       "  gender  age  gross_income            segment  num_credit_cards  tiprel_1mes  \\\n",
       "0      M   21      79070.91        Individuals                 0            0   \n",
       "1      M   23     178270.68  College_Graduated                 0            0   \n",
       "2      M   24      31243.56  College_Graduated                 0            0   \n",
       "3      M   24     130740.54  College_Graduated                 0            0   \n",
       "4      M   31     112975.17        Individuals                 0            0   \n",
       "\n",
       "   ind_actividad_cliente  num_Products  num_loans  duration age_bins  \\\n",
       "0                      0             1          0      1035    20-40   \n",
       "1                      0             1          0      1097    20-40   \n",
       "2                      1             1          0      1866    20-40   \n",
       "3                      0             1          0      1440    20-40   \n",
       "4                      0             0          0       376    20-40   \n",
       "\n",
       "       Status consistancy  \n",
       "0  consistant  consistant  \n",
       "1  consistant  consistant  \n",
       "2          NA         NaN  \n",
       "3  consistant  consistant  \n",
       "4  consistant  consistant  "
      ]
     },
     "execution_count": 216,
     "metadata": {},
     "output_type": "execute_result"
    }
   ],
   "source": [
    "df.head()"
   ]
  },
  {
   "cell_type": "code",
   "execution_count": 217,
   "id": "f9d7d28b-b16e-4c1a-ad7c-415a4a5dba1b",
   "metadata": {},
   "outputs": [
    {
     "data": {
      "text/plain": [
       "0"
      ]
     },
     "execution_count": 217,
     "metadata": {},
     "output_type": "execute_result"
    }
   ],
   "source": [
    "df['Status'].isna().sum()"
   ]
  },
  {
   "cell_type": "code",
   "execution_count": 218,
   "id": "7e484f3d-52de-407f-9645-1c6add0fdce0",
   "metadata": {},
   "outputs": [],
   "source": [
    "df['Status'].fillna(\"NA\",inplace=True)"
   ]
  },
  {
   "cell_type": "code",
   "execution_count": 219,
   "id": "d0869962-3975-40e1-9065-ac9993de0328",
   "metadata": {},
   "outputs": [
    {
     "data": {
      "text/plain": [
       "0"
      ]
     },
     "execution_count": 219,
     "metadata": {},
     "output_type": "execute_result"
    }
   ],
   "source": [
    "df['Status'].isna().sum()"
   ]
  },
  {
   "cell_type": "code",
   "execution_count": 221,
   "id": "93286d01-b397-4f03-abdd-87f8c98e8bc1",
   "metadata": {},
   "outputs": [],
   "source": [
    "df['Status']=df['Status'].replace('consistant','NA')"
   ]
  },
  {
   "cell_type": "code",
   "execution_count": 222,
   "id": "b96be0e0-f6a7-4ec0-88f7-c4a1b25e4725",
   "metadata": {},
   "outputs": [
    {
     "data": {
      "text/html": [
       "<div>\n",
       "<style scoped>\n",
       "    .dataframe tbody tr th:only-of-type {\n",
       "        vertical-align: middle;\n",
       "    }\n",
       "\n",
       "    .dataframe tbody tr th {\n",
       "        vertical-align: top;\n",
       "    }\n",
       "\n",
       "    .dataframe thead th {\n",
       "        text-align: right;\n",
       "    }\n",
       "</style>\n",
       "<table border=\"1\" class=\"dataframe\">\n",
       "  <thead>\n",
       "    <tr style=\"text-align: right;\">\n",
       "      <th></th>\n",
       "      <th>Status</th>\n",
       "      <th>num_Products</th>\n",
       "    </tr>\n",
       "  </thead>\n",
       "  <tbody>\n",
       "    <tr>\n",
       "      <th>0</th>\n",
       "      <td>Active</td>\n",
       "      <td>22906</td>\n",
       "    </tr>\n",
       "    <tr>\n",
       "      <th>1</th>\n",
       "      <td>Inactive</td>\n",
       "      <td>2098</td>\n",
       "    </tr>\n",
       "    <tr>\n",
       "      <th>2</th>\n",
       "      <td>NA</td>\n",
       "      <td>29026</td>\n",
       "    </tr>\n",
       "  </tbody>\n",
       "</table>\n",
       "</div>"
      ],
      "text/plain": [
       "     Status  num_Products\n",
       "0    Active         22906\n",
       "1  Inactive          2098\n",
       "2        NA         29026"
      ]
     },
     "execution_count": 222,
     "metadata": {},
     "output_type": "execute_result"
    }
   ],
   "source": [
    "pn=df.groupby('Status')['num_Products'].size().reset_index() #pn = No.of Products\n",
    "pn"
   ]
  },
  {
   "cell_type": "code",
   "execution_count": 226,
   "id": "a53439f8-6098-4762-9dd7-34e73bfeb0ed",
   "metadata": {},
   "outputs": [
    {
     "data": {
      "text/html": [
       "<div>\n",
       "<style scoped>\n",
       "    .dataframe tbody tr th:only-of-type {\n",
       "        vertical-align: middle;\n",
       "    }\n",
       "\n",
       "    .dataframe tbody tr th {\n",
       "        vertical-align: top;\n",
       "    }\n",
       "\n",
       "    .dataframe thead th {\n",
       "        text-align: right;\n",
       "    }\n",
       "</style>\n",
       "<table border=\"1\" class=\"dataframe\">\n",
       "  <thead>\n",
       "    <tr style=\"text-align: right;\">\n",
       "      <th></th>\n",
       "      <th>Status</th>\n",
       "      <th>num_Products</th>\n",
       "    </tr>\n",
       "  </thead>\n",
       "  <tbody>\n",
       "    <tr>\n",
       "      <th>0</th>\n",
       "      <td>Active</td>\n",
       "      <td>22906</td>\n",
       "    </tr>\n",
       "    <tr>\n",
       "      <th>1</th>\n",
       "      <td>Inactive</td>\n",
       "      <td>2098</td>\n",
       "    </tr>\n",
       "  </tbody>\n",
       "</table>\n",
       "</div>"
      ],
      "text/plain": [
       "     Status  num_Products\n",
       "0    Active         22906\n",
       "1  Inactive          2098"
      ]
     },
     "execution_count": 226,
     "metadata": {},
     "output_type": "execute_result"
    }
   ],
   "source": [
    "pn"
   ]
  },
  {
   "cell_type": "code",
   "execution_count": 228,
   "id": "4b85bea8-dccc-4d3a-8649-f898454035e7",
   "metadata": {},
   "outputs": [],
   "source": [
    "#pn.drop([2], inplace = True)\n",
    "#pn"
   ]
  },
  {
   "cell_type": "code",
   "execution_count": 229,
   "id": "8ee044ff-f3d6-476d-b4f5-2a67f8ff1520",
   "metadata": {},
   "outputs": [
    {
     "data": {
      "text/plain": [
       "<AxesSubplot:>"
      ]
     },
     "execution_count": 229,
     "metadata": {},
     "output_type": "execute_result"
    },
    {
     "data": {
      "image/png": "[encoded data removed]",
      "text/plain": [
       "<Figure size 432x288 with 1 Axes>"
      ]
     },
     "metadata": {
      "needs_background": "light"
     },
     "output_type": "display_data"
    }
   ],
   "source": [
    "pn.plot(kind='bar')"
   ]
  },
  {
   "cell_type": "code",
   "execution_count": 230,
   "id": "d44695ea-7a7c-4d4d-8db1-2cc2838cddd7",
   "metadata": {},
   "outputs": [],
   "source": [
    "df.loc[(df['tiprel_1mes'] == 1) & (df['ind_actividad_cliente'] == 1),'consistancy'] = 'consistant' \n",
    "df.loc[(df['tiprel_1mes'] == 0) & (df['ind_actividad_cliente'] == 0),'consistancy'] = 'consistant'"
   ]
  },
  {
   "cell_type": "code",
   "execution_count": 231,
   "id": "54750e35-3e5a-449d-a318-deef23efd1d1",
   "metadata": {},
   "outputs": [
    {
     "data": {
      "text/html": [
       "<div>\n",
       "<style scoped>\n",
       "    .dataframe tbody tr th:only-of-type {\n",
       "        vertical-align: middle;\n",
       "    }\n",
       "\n",
       "    .dataframe tbody tr th {\n",
       "        vertical-align: top;\n",
       "    }\n",
       "\n",
       "    .dataframe thead th {\n",
       "        text-align: right;\n",
       "    }\n",
       "</style>\n",
       "<table border=\"1\" class=\"dataframe\">\n",
       "  <thead>\n",
       "    <tr style=\"text-align: right;\">\n",
       "      <th></th>\n",
       "      <th>gender</th>\n",
       "      <th>age</th>\n",
       "      <th>gross_income</th>\n",
       "      <th>segment</th>\n",
       "      <th>num_credit_cards</th>\n",
       "      <th>tiprel_1mes</th>\n",
       "      <th>ind_actividad_cliente</th>\n",
       "      <th>num_Products</th>\n",
       "      <th>num_loans</th>\n",
       "      <th>duration</th>\n",
       "      <th>age_bins</th>\n",
       "      <th>Status</th>\n",
       "      <th>consistancy</th>\n",
       "    </tr>\n",
       "  </thead>\n",
       "  <tbody>\n",
       "    <tr>\n",
       "      <th>0</th>\n",
       "      <td>M</td>\n",
       "      <td>21</td>\n",
       "      <td>79070.91</td>\n",
       "      <td>Individuals</td>\n",
       "      <td>0</td>\n",
       "      <td>0</td>\n",
       "      <td>0</td>\n",
       "      <td>1</td>\n",
       "      <td>0</td>\n",
       "      <td>1035</td>\n",
       "      <td>20-40</td>\n",
       "      <td>NA</td>\n",
       "      <td>consistant</td>\n",
       "    </tr>\n",
       "    <tr>\n",
       "      <th>1</th>\n",
       "      <td>M</td>\n",
       "      <td>23</td>\n",
       "      <td>178270.68</td>\n",
       "      <td>College_Graduated</td>\n",
       "      <td>0</td>\n",
       "      <td>0</td>\n",
       "      <td>0</td>\n",
       "      <td>1</td>\n",
       "      <td>0</td>\n",
       "      <td>1097</td>\n",
       "      <td>20-40</td>\n",
       "      <td>NA</td>\n",
       "      <td>consistant</td>\n",
       "    </tr>\n",
       "    <tr>\n",
       "      <th>2</th>\n",
       "      <td>M</td>\n",
       "      <td>24</td>\n",
       "      <td>31243.56</td>\n",
       "      <td>College_Graduated</td>\n",
       "      <td>0</td>\n",
       "      <td>0</td>\n",
       "      <td>1</td>\n",
       "      <td>1</td>\n",
       "      <td>0</td>\n",
       "      <td>1866</td>\n",
       "      <td>20-40</td>\n",
       "      <td>NA</td>\n",
       "      <td>NaN</td>\n",
       "    </tr>\n",
       "    <tr>\n",
       "      <th>3</th>\n",
       "      <td>M</td>\n",
       "      <td>24</td>\n",
       "      <td>130740.54</td>\n",
       "      <td>College_Graduated</td>\n",
       "      <td>0</td>\n",
       "      <td>0</td>\n",
       "      <td>0</td>\n",
       "      <td>1</td>\n",
       "      <td>0</td>\n",
       "      <td>1440</td>\n",
       "      <td>20-40</td>\n",
       "      <td>NA</td>\n",
       "      <td>consistant</td>\n",
       "    </tr>\n",
       "    <tr>\n",
       "      <th>4</th>\n",
       "      <td>M</td>\n",
       "      <td>31</td>\n",
       "      <td>112975.17</td>\n",
       "      <td>Individuals</td>\n",
       "      <td>0</td>\n",
       "      <td>0</td>\n",
       "      <td>0</td>\n",
       "      <td>0</td>\n",
       "      <td>0</td>\n",
       "      <td>376</td>\n",
       "      <td>20-40</td>\n",
       "      <td>NA</td>\n",
       "      <td>consistant</td>\n",
       "    </tr>\n",
       "  </tbody>\n",
       "</table>\n",
       "</div>"
      ],
      "text/plain": [
       "  gender  age  gross_income            segment  num_credit_cards  tiprel_1mes  \\\n",
       "0      M   21      79070.91        Individuals                 0            0   \n",
       "1      M   23     178270.68  College_Graduated                 0            0   \n",
       "2      M   24      31243.56  College_Graduated                 0            0   \n",
       "3      M   24     130740.54  College_Graduated                 0            0   \n",
       "4      M   31     112975.17        Individuals                 0            0   \n",
       "\n",
       "   ind_actividad_cliente  num_Products  num_loans  duration age_bins Status  \\\n",
       "0                      0             1          0      1035    20-40     NA   \n",
       "1                      0             1          0      1097    20-40     NA   \n",
       "2                      1             1          0      1866    20-40     NA   \n",
       "3                      0             1          0      1440    20-40     NA   \n",
       "4                      0             0          0       376    20-40     NA   \n",
       "\n",
       "  consistancy  \n",
       "0  consistant  \n",
       "1  consistant  \n",
       "2         NaN  \n",
       "3  consistant  \n",
       "4  consistant  "
      ]
     },
     "execution_count": 231,
     "metadata": {},
     "output_type": "execute_result"
    }
   ],
   "source": [
    "df.head()"
   ]
  },
  {
   "cell_type": "code",
   "execution_count": 232,
   "id": "d139afda-1903-4fbf-a277-fe772cdbf5ef",
   "metadata": {},
   "outputs": [],
   "source": [
    "df['consistancy'].fillna(\"inconsistant\",inplace=True)"
   ]
  },
  {
   "cell_type": "code",
   "execution_count": 233,
   "id": "3ec09f23-37f1-4f31-9400-e66d3fc8e9b1",
   "metadata": {},
   "outputs": [
    {
     "data": {
      "text/html": [
       "<div>\n",
       "<style scoped>\n",
       "    .dataframe tbody tr th:only-of-type {\n",
       "        vertical-align: middle;\n",
       "    }\n",
       "\n",
       "    .dataframe tbody tr th {\n",
       "        vertical-align: top;\n",
       "    }\n",
       "\n",
       "    .dataframe thead th {\n",
       "        text-align: right;\n",
       "    }\n",
       "</style>\n",
       "<table border=\"1\" class=\"dataframe\">\n",
       "  <thead>\n",
       "    <tr style=\"text-align: right;\">\n",
       "      <th></th>\n",
       "      <th>gender</th>\n",
       "      <th>age</th>\n",
       "      <th>gross_income</th>\n",
       "      <th>segment</th>\n",
       "      <th>num_credit_cards</th>\n",
       "      <th>tiprel_1mes</th>\n",
       "      <th>ind_actividad_cliente</th>\n",
       "      <th>num_Products</th>\n",
       "      <th>num_loans</th>\n",
       "      <th>duration</th>\n",
       "      <th>age_bins</th>\n",
       "      <th>Status</th>\n",
       "      <th>consistancy</th>\n",
       "    </tr>\n",
       "  </thead>\n",
       "  <tbody>\n",
       "    <tr>\n",
       "      <th>0</th>\n",
       "      <td>M</td>\n",
       "      <td>21</td>\n",
       "      <td>79070.91</td>\n",
       "      <td>Individuals</td>\n",
       "      <td>0</td>\n",
       "      <td>0</td>\n",
       "      <td>0</td>\n",
       "      <td>1</td>\n",
       "      <td>0</td>\n",
       "      <td>1035</td>\n",
       "      <td>20-40</td>\n",
       "      <td>NA</td>\n",
       "      <td>consistant</td>\n",
       "    </tr>\n",
       "    <tr>\n",
       "      <th>1</th>\n",
       "      <td>M</td>\n",
       "      <td>23</td>\n",
       "      <td>178270.68</td>\n",
       "      <td>College_Graduated</td>\n",
       "      <td>0</td>\n",
       "      <td>0</td>\n",
       "      <td>0</td>\n",
       "      <td>1</td>\n",
       "      <td>0</td>\n",
       "      <td>1097</td>\n",
       "      <td>20-40</td>\n",
       "      <td>NA</td>\n",
       "      <td>consistant</td>\n",
       "    </tr>\n",
       "    <tr>\n",
       "      <th>2</th>\n",
       "      <td>M</td>\n",
       "      <td>24</td>\n",
       "      <td>31243.56</td>\n",
       "      <td>College_Graduated</td>\n",
       "      <td>0</td>\n",
       "      <td>0</td>\n",
       "      <td>1</td>\n",
       "      <td>1</td>\n",
       "      <td>0</td>\n",
       "      <td>1866</td>\n",
       "      <td>20-40</td>\n",
       "      <td>NA</td>\n",
       "      <td>inconsistant</td>\n",
       "    </tr>\n",
       "    <tr>\n",
       "      <th>3</th>\n",
       "      <td>M</td>\n",
       "      <td>24</td>\n",
       "      <td>130740.54</td>\n",
       "      <td>College_Graduated</td>\n",
       "      <td>0</td>\n",
       "      <td>0</td>\n",
       "      <td>0</td>\n",
       "      <td>1</td>\n",
       "      <td>0</td>\n",
       "      <td>1440</td>\n",
       "      <td>20-40</td>\n",
       "      <td>NA</td>\n",
       "      <td>consistant</td>\n",
       "    </tr>\n",
       "    <tr>\n",
       "      <th>4</th>\n",
       "      <td>M</td>\n",
       "      <td>31</td>\n",
       "      <td>112975.17</td>\n",
       "      <td>Individuals</td>\n",
       "      <td>0</td>\n",
       "      <td>0</td>\n",
       "      <td>0</td>\n",
       "      <td>0</td>\n",
       "      <td>0</td>\n",
       "      <td>376</td>\n",
       "      <td>20-40</td>\n",
       "      <td>NA</td>\n",
       "      <td>consistant</td>\n",
       "    </tr>\n",
       "  </tbody>\n",
       "</table>\n",
       "</div>"
      ],
      "text/plain": [
       "  gender  age  gross_income            segment  num_credit_cards  tiprel_1mes  \\\n",
       "0      M   21      79070.91        Individuals                 0            0   \n",
       "1      M   23     178270.68  College_Graduated                 0            0   \n",
       "2      M   24      31243.56  College_Graduated                 0            0   \n",
       "3      M   24     130740.54  College_Graduated                 0            0   \n",
       "4      M   31     112975.17        Individuals                 0            0   \n",
       "\n",
       "   ind_actividad_cliente  num_Products  num_loans  duration age_bins Status  \\\n",
       "0                      0             1          0      1035    20-40     NA   \n",
       "1                      0             1          0      1097    20-40     NA   \n",
       "2                      1             1          0      1866    20-40     NA   \n",
       "3                      0             1          0      1440    20-40     NA   \n",
       "4                      0             0          0       376    20-40     NA   \n",
       "\n",
       "    consistancy  \n",
       "0    consistant  \n",
       "1    consistant  \n",
       "2  inconsistant  \n",
       "3    consistant  \n",
       "4    consistant  "
      ]
     },
     "execution_count": 233,
     "metadata": {},
     "output_type": "execute_result"
    }
   ],
   "source": [
    "df.head()"
   ]
  },
  {
   "cell_type": "code",
   "execution_count": 234,
   "id": "50f2e170-2087-4e6e-994b-02c27996a169",
   "metadata": {},
   "outputs": [
    {
     "data": {
      "text/plain": [
       "count          54030\n",
       "unique             2\n",
       "top       consistant\n",
       "freq           49494\n",
       "Name: consistancy, dtype: object"
      ]
     },
     "execution_count": 234,
     "metadata": {},
     "output_type": "execute_result"
    }
   ],
   "source": [
    "df['consistancy'].describe()"
   ]
  },
  {
   "cell_type": "code",
   "execution_count": 236,
   "id": "75ee0a3c-328d-419d-85cd-0fd60f0c1bb3",
   "metadata": {},
   "outputs": [
    {
     "data": {
      "text/html": [
       "<div>\n",
       "<style scoped>\n",
       "    .dataframe tbody tr th:only-of-type {\n",
       "        vertical-align: middle;\n",
       "    }\n",
       "\n",
       "    .dataframe tbody tr th {\n",
       "        vertical-align: top;\n",
       "    }\n",
       "\n",
       "    .dataframe thead tr th {\n",
       "        text-align: left;\n",
       "    }\n",
       "\n",
       "    .dataframe thead tr:last-of-type th {\n",
       "        text-align: right;\n",
       "    }\n",
       "</style>\n",
       "<table border=\"1\" class=\"dataframe\">\n",
       "  <thead>\n",
       "    <tr>\n",
       "      <th></th>\n",
       "      <th colspan=\"8\" halign=\"left\">age</th>\n",
       "      <th colspan=\"2\" halign=\"left\">gross_income</th>\n",
       "      <th>...</th>\n",
       "      <th colspan=\"2\" halign=\"left\">num_loans</th>\n",
       "      <th colspan=\"8\" halign=\"left\">duration</th>\n",
       "    </tr>\n",
       "    <tr>\n",
       "      <th></th>\n",
       "      <th>count</th>\n",
       "      <th>mean</th>\n",
       "      <th>std</th>\n",
       "      <th>min</th>\n",
       "      <th>25%</th>\n",
       "      <th>50%</th>\n",
       "      <th>75%</th>\n",
       "      <th>max</th>\n",
       "      <th>count</th>\n",
       "      <th>mean</th>\n",
       "      <th>...</th>\n",
       "      <th>75%</th>\n",
       "      <th>max</th>\n",
       "      <th>count</th>\n",
       "      <th>mean</th>\n",
       "      <th>std</th>\n",
       "      <th>min</th>\n",
       "      <th>25%</th>\n",
       "      <th>50%</th>\n",
       "      <th>75%</th>\n",
       "      <th>max</th>\n",
       "    </tr>\n",
       "    <tr>\n",
       "      <th>consistancy</th>\n",
       "      <th></th>\n",
       "      <th></th>\n",
       "      <th></th>\n",
       "      <th></th>\n",
       "      <th></th>\n",
       "      <th></th>\n",
       "      <th></th>\n",
       "      <th></th>\n",
       "      <th></th>\n",
       "      <th></th>\n",
       "      <th></th>\n",
       "      <th></th>\n",
       "      <th></th>\n",
       "      <th></th>\n",
       "      <th></th>\n",
       "      <th></th>\n",
       "      <th></th>\n",
       "      <th></th>\n",
       "      <th></th>\n",
       "      <th></th>\n",
       "      <th></th>\n",
       "    </tr>\n",
       "  </thead>\n",
       "  <tbody>\n",
       "    <tr>\n",
       "      <th>consistant</th>\n",
       "      <td>49494.0</td>\n",
       "      <td>40.655453</td>\n",
       "      <td>17.097512</td>\n",
       "      <td>2.0</td>\n",
       "      <td>25.0</td>\n",
       "      <td>39.0</td>\n",
       "      <td>51.0</td>\n",
       "      <td>112.0</td>\n",
       "      <td>49494.0</td>\n",
       "      <td>134789.656325</td>\n",
       "      <td>...</td>\n",
       "      <td>0.0</td>\n",
       "      <td>1.0</td>\n",
       "      <td>49494.0</td>\n",
       "      <td>2905.25696</td>\n",
       "      <td>2017.987063</td>\n",
       "      <td>366.0</td>\n",
       "      <td>1131.0</td>\n",
       "      <td>2025.0</td>\n",
       "      <td>4654.0</td>\n",
       "      <td>7909.0</td>\n",
       "    </tr>\n",
       "    <tr>\n",
       "      <th>inconsistant</th>\n",
       "      <td>4536.0</td>\n",
       "      <td>42.050044</td>\n",
       "      <td>18.354969</td>\n",
       "      <td>2.0</td>\n",
       "      <td>25.0</td>\n",
       "      <td>41.0</td>\n",
       "      <td>53.0</td>\n",
       "      <td>105.0</td>\n",
       "      <td>4536.0</td>\n",
       "      <td>127726.402077</td>\n",
       "      <td>...</td>\n",
       "      <td>0.0</td>\n",
       "      <td>1.0</td>\n",
       "      <td>4536.0</td>\n",
       "      <td>3008.64418</td>\n",
       "      <td>2131.646434</td>\n",
       "      <td>366.0</td>\n",
       "      <td>1073.0</td>\n",
       "      <td>2310.5</td>\n",
       "      <td>5039.0</td>\n",
       "      <td>7879.0</td>\n",
       "    </tr>\n",
       "  </tbody>\n",
       "</table>\n",
       "<p>2 rows × 64 columns</p>\n",
       "</div>"
      ],
      "text/plain": [
       "                  age                                                      \\\n",
       "                count       mean        std  min   25%   50%   75%    max   \n",
       "consistancy                                                                 \n",
       "consistant    49494.0  40.655453  17.097512  2.0  25.0  39.0  51.0  112.0   \n",
       "inconsistant   4536.0  42.050044  18.354969  2.0  25.0  41.0  53.0  105.0   \n",
       "\n",
       "             gross_income                 ... num_loans      duration  \\\n",
       "                    count           mean  ...       75%  max    count   \n",
       "consistancy                               ...                           \n",
       "consistant        49494.0  134789.656325  ...       0.0  1.0  49494.0   \n",
       "inconsistant       4536.0  127726.402077  ...       0.0  1.0   4536.0   \n",
       "\n",
       "                                                                              \n",
       "                    mean          std    min     25%     50%     75%     max  \n",
       "consistancy                                                                   \n",
       "consistant    2905.25696  2017.987063  366.0  1131.0  2025.0  4654.0  7909.0  \n",
       "inconsistant  3008.64418  2131.646434  366.0  1073.0  2310.5  5039.0  7879.0  \n",
       "\n",
       "[2 rows x 64 columns]"
      ]
     },
     "execution_count": 236,
     "metadata": {},
     "output_type": "execute_result"
    }
   ],
   "source": [
    "df.groupby('consistancy')."
   ]
  },
  {
   "cell_type": "code",
   "execution_count": 245,
   "id": "64e4160b-7fa1-48bb-b7d9-e4282bb8e69b",
   "metadata": {},
   "outputs": [
    {
     "data": {
      "text/plain": [
       "{'age': 'mean',\n",
       " 'gross_income': 'mean',\n",
       " 'num_credit_cards': 'mean',\n",
       " 'num_Products': 'mean',\n",
       " 'num_loans': 'mean',\n",
       " 'duration': 'mean'}"
      ]
     },
     "execution_count": 245,
     "metadata": {},
     "output_type": "execute_result"
    }
   ],
   "source": [
    "operations = {'age':'mean', 'gross_income':'mean','num_credit_cards':'mean','num_Products':'mean','num_loans':'mean','duration':'mean'}\n",
    "operations"
   ]
  },
  {
   "cell_type": "code",
   "execution_count": 246,
   "id": "d63acd8c-cecd-471a-a077-4357dabe2d76",
   "metadata": {},
   "outputs": [
    {
     "data": {
      "text/html": [
       "<div>\n",
       "<style scoped>\n",
       "    .dataframe tbody tr th:only-of-type {\n",
       "        vertical-align: middle;\n",
       "    }\n",
       "\n",
       "    .dataframe tbody tr th {\n",
       "        vertical-align: top;\n",
       "    }\n",
       "\n",
       "    .dataframe thead th {\n",
       "        text-align: right;\n",
       "    }\n",
       "</style>\n",
       "<table border=\"1\" class=\"dataframe\">\n",
       "  <thead>\n",
       "    <tr style=\"text-align: right;\">\n",
       "      <th></th>\n",
       "      <th>age</th>\n",
       "      <th>gross_income</th>\n",
       "      <th>num_credit_cards</th>\n",
       "      <th>num_Products</th>\n",
       "      <th>num_loans</th>\n",
       "      <th>duration</th>\n",
       "    </tr>\n",
       "    <tr>\n",
       "      <th>consistancy</th>\n",
       "      <th></th>\n",
       "      <th></th>\n",
       "      <th></th>\n",
       "      <th></th>\n",
       "      <th></th>\n",
       "      <th></th>\n",
       "    </tr>\n",
       "  </thead>\n",
       "  <tbody>\n",
       "    <tr>\n",
       "      <th>consistant</th>\n",
       "      <td>40.66</td>\n",
       "      <td>134789.66</td>\n",
       "      <td>0.05</td>\n",
       "      <td>1.58</td>\n",
       "      <td>0.01</td>\n",
       "      <td>2905.26</td>\n",
       "    </tr>\n",
       "    <tr>\n",
       "      <th>inconsistant</th>\n",
       "      <td>42.05</td>\n",
       "      <td>127726.40</td>\n",
       "      <td>0.00</td>\n",
       "      <td>1.05</td>\n",
       "      <td>0.01</td>\n",
       "      <td>3008.64</td>\n",
       "    </tr>\n",
       "  </tbody>\n",
       "</table>\n",
       "</div>"
      ],
      "text/plain": [
       "                age  gross_income  num_credit_cards  num_Products  num_loans  \\\n",
       "consistancy                                                                    \n",
       "consistant    40.66     134789.66              0.05          1.58       0.01   \n",
       "inconsistant  42.05     127726.40              0.00          1.05       0.01   \n",
       "\n",
       "              duration  \n",
       "consistancy             \n",
       "consistant     2905.26  \n",
       "inconsistant   3008.64  "
      ]
     },
     "execution_count": 246,
     "metadata": {},
     "output_type": "execute_result"
    }
   ],
   "source": [
    "df.groupby('consistancy').aggregate(operations).round(2)"
   ]
  },
  {
   "cell_type": "code",
   "execution_count": 250,
   "id": "8edcbf04-d232-4b53-a712-f8f1a7ce864b",
   "metadata": {},
   "outputs": [
    {
     "data": {
      "text/plain": [
       "consistancy   segment          \n",
       "consistant    College_Graduated    17460\n",
       "              Individuals          29607\n",
       "              VIP                   2427\n",
       "inconsistant  College_Graduated     1503\n",
       "              Individuals           3000\n",
       "              VIP                     33\n",
       "dtype: int64"
      ]
     },
     "execution_count": 250,
     "metadata": {},
     "output_type": "execute_result"
    }
   ],
   "source": [
    "df.groupby(['consistancy','segment']).size()"
   ]
  },
  {
   "cell_type": "code",
   "execution_count": 253,
   "id": "79838fd3-c993-4666-a15a-7dc406a83b94",
   "metadata": {},
   "outputs": [
    {
     "data": {
      "text/html": [
       "<div>\n",
       "<style scoped>\n",
       "    .dataframe tbody tr th:only-of-type {\n",
       "        vertical-align: middle;\n",
       "    }\n",
       "\n",
       "    .dataframe tbody tr th {\n",
       "        vertical-align: top;\n",
       "    }\n",
       "\n",
       "    .dataframe thead th {\n",
       "        text-align: right;\n",
       "    }\n",
       "</style>\n",
       "<table border=\"1\" class=\"dataframe\">\n",
       "  <thead>\n",
       "    <tr style=\"text-align: right;\">\n",
       "      <th></th>\n",
       "      <th>gender</th>\n",
       "      <th>age</th>\n",
       "      <th>gross_income</th>\n",
       "      <th>segment</th>\n",
       "      <th>num_credit_cards</th>\n",
       "      <th>tiprel_1mes</th>\n",
       "      <th>ind_actividad_cliente</th>\n",
       "      <th>num_Products</th>\n",
       "      <th>num_loans</th>\n",
       "      <th>duration</th>\n",
       "      <th>age_bins</th>\n",
       "      <th>Status</th>\n",
       "      <th>consistancy</th>\n",
       "    </tr>\n",
       "  </thead>\n",
       "  <tbody>\n",
       "    <tr>\n",
       "      <th>0</th>\n",
       "      <td>M</td>\n",
       "      <td>21</td>\n",
       "      <td>79070.91</td>\n",
       "      <td>Individuals</td>\n",
       "      <td>0</td>\n",
       "      <td>0</td>\n",
       "      <td>0</td>\n",
       "      <td>1</td>\n",
       "      <td>0</td>\n",
       "      <td>1035</td>\n",
       "      <td>20-40</td>\n",
       "      <td>NA</td>\n",
       "      <td>consistant</td>\n",
       "    </tr>\n",
       "  </tbody>\n",
       "</table>\n",
       "</div>"
      ],
      "text/plain": [
       "  gender  age  gross_income      segment  num_credit_cards  tiprel_1mes  \\\n",
       "0      M   21      79070.91  Individuals                 0            0   \n",
       "\n",
       "   ind_actividad_cliente  num_Products  num_loans  duration age_bins Status  \\\n",
       "0                      0             1          0      1035    20-40     NA   \n",
       "\n",
       "  consistancy  \n",
       "0  consistant  "
      ]
     },
     "execution_count": 253,
     "metadata": {},
     "output_type": "execute_result"
    }
   ],
   "source": [
    "df.head(1)"
   ]
  },
  {
   "cell_type": "code",
   "execution_count": 262,
   "id": "8bedb5ae-032e-4d2f-931c-a421b5fd8b6c",
   "metadata": {},
   "outputs": [],
   "source": [
    "df2=df.copy()"
   ]
  },
  {
   "cell_type": "code",
   "execution_count": 269,
   "id": "967e4f93-df95-4c05-a456-8ae66a778911",
   "metadata": {},
   "outputs": [],
   "source": [
    "df2.drop(['age_bins', 'Status'], axis = 1,inplace=True)"
   ]
  },
  {
   "cell_type": "code",
   "execution_count": 270,
   "id": "59f5baf8-2022-4347-9950-648a1d005088",
   "metadata": {},
   "outputs": [
    {
     "data": {
      "text/plain": [
       "gender                   0\n",
       "age                      0\n",
       "gross_income             0\n",
       "segment                  0\n",
       "num_credit_cards         0\n",
       "tiprel_1mes              0\n",
       "ind_actividad_cliente    0\n",
       "num_Products             0\n",
       "num_loans                0\n",
       "duration                 0\n",
       "consistancy              0\n",
       "dtype: int64"
      ]
     },
     "execution_count": 270,
     "metadata": {},
     "output_type": "execute_result"
    }
   ],
   "source": [
    "df2.isna().sum()"
   ]
  },
  {
   "cell_type": "code",
   "execution_count": 272,
   "id": "da0d13ac-5369-47e8-b0f0-74c179799601",
   "metadata": {},
   "outputs": [],
   "source": [
    "df2['consistancy']=df2['consistancy'].replace(['consistant','inconsistant'],[1,0])"
   ]
  },
  {
   "cell_type": "code",
   "execution_count": 273,
   "id": "c94f7127-966a-4136-95bc-dfeb9766e8da",
   "metadata": {},
   "outputs": [
    {
     "data": {
      "text/plain": [
       "<AxesSubplot:>"
      ]
     },
     "execution_count": 273,
     "metadata": {},
     "output_type": "execute_result"
    },
    {
     "data": {
      "image/png": "[encoded data removed]",
      "text/plain": [
       "<Figure size 864x864 with 2 Axes>"
      ]
     },
     "metadata": {
      "needs_background": "light"
     },
     "output_type": "display_data"
    }
   ],
   "source": [
    "plt.figure(figsize=(12, 12))\n",
    "sns.heatmap(df2.corr())"
   ]
  },
  {
   "cell_type": "code",
   "execution_count": 275,
   "id": "f58062c5-1f89-47fa-b8a0-836ffc206252",
   "metadata": {},
   "outputs": [],
   "source": [
    "df.loc[(df['tiprel_1mes'] == 1) & (df['ind_actividad_cliente'] == 1),'Profile'] = 'ASAE' \n",
    "df.loc[(df['tiprel_1mes'] == 1) & (df['ind_actividad_cliente'] == 0),'Profile'] = 'ASIE' \n",
    "df.loc[(df['tiprel_1mes'] == 0) & (df['ind_actividad_cliente'] == 1),'Profile'] = 'ISAE' \n",
    "df.loc[(df['tiprel_1mes'] == 0) & (df['ind_actividad_cliente'] == 0),'Profile'] = 'ISIE' "
   ]
  },
  {
   "cell_type": "code",
   "execution_count": 277,
   "id": "a3ccc1b3-48ae-4689-b661-6b599af4dea7",
   "metadata": {},
   "outputs": [
    {
     "data": {
      "text/html": [
       "<div>\n",
       "<style scoped>\n",
       "    .dataframe tbody tr th:only-of-type {\n",
       "        vertical-align: middle;\n",
       "    }\n",
       "\n",
       "    .dataframe tbody tr th {\n",
       "        vertical-align: top;\n",
       "    }\n",
       "\n",
       "    .dataframe thead th {\n",
       "        text-align: right;\n",
       "    }\n",
       "</style>\n",
       "<table border=\"1\" class=\"dataframe\">\n",
       "  <thead>\n",
       "    <tr style=\"text-align: right;\">\n",
       "      <th></th>\n",
       "      <th>gender</th>\n",
       "      <th>age</th>\n",
       "      <th>gross_income</th>\n",
       "      <th>segment</th>\n",
       "      <th>num_credit_cards</th>\n",
       "      <th>tiprel_1mes</th>\n",
       "      <th>ind_actividad_cliente</th>\n",
       "      <th>num_Products</th>\n",
       "      <th>num_loans</th>\n",
       "      <th>duration</th>\n",
       "      <th>age_bins</th>\n",
       "      <th>Status</th>\n",
       "      <th>consistancy</th>\n",
       "      <th>Profile</th>\n",
       "    </tr>\n",
       "  </thead>\n",
       "  <tbody>\n",
       "    <tr>\n",
       "      <th>0</th>\n",
       "      <td>M</td>\n",
       "      <td>21</td>\n",
       "      <td>79070.91</td>\n",
       "      <td>Individuals</td>\n",
       "      <td>0</td>\n",
       "      <td>0</td>\n",
       "      <td>0</td>\n",
       "      <td>1</td>\n",
       "      <td>0</td>\n",
       "      <td>1035</td>\n",
       "      <td>20-40</td>\n",
       "      <td>NA</td>\n",
       "      <td>consistant</td>\n",
       "      <td>ISIE</td>\n",
       "    </tr>\n",
       "    <tr>\n",
       "      <th>1</th>\n",
       "      <td>M</td>\n",
       "      <td>23</td>\n",
       "      <td>178270.68</td>\n",
       "      <td>College_Graduated</td>\n",
       "      <td>0</td>\n",
       "      <td>0</td>\n",
       "      <td>0</td>\n",
       "      <td>1</td>\n",
       "      <td>0</td>\n",
       "      <td>1097</td>\n",
       "      <td>20-40</td>\n",
       "      <td>NA</td>\n",
       "      <td>consistant</td>\n",
       "      <td>ISIE</td>\n",
       "    </tr>\n",
       "    <tr>\n",
       "      <th>2</th>\n",
       "      <td>M</td>\n",
       "      <td>24</td>\n",
       "      <td>31243.56</td>\n",
       "      <td>College_Graduated</td>\n",
       "      <td>0</td>\n",
       "      <td>0</td>\n",
       "      <td>1</td>\n",
       "      <td>1</td>\n",
       "      <td>0</td>\n",
       "      <td>1866</td>\n",
       "      <td>20-40</td>\n",
       "      <td>NA</td>\n",
       "      <td>inconsistant</td>\n",
       "      <td>ISAE</td>\n",
       "    </tr>\n",
       "    <tr>\n",
       "      <th>3</th>\n",
       "      <td>M</td>\n",
       "      <td>24</td>\n",
       "      <td>130740.54</td>\n",
       "      <td>College_Graduated</td>\n",
       "      <td>0</td>\n",
       "      <td>0</td>\n",
       "      <td>0</td>\n",
       "      <td>1</td>\n",
       "      <td>0</td>\n",
       "      <td>1440</td>\n",
       "      <td>20-40</td>\n",
       "      <td>NA</td>\n",
       "      <td>consistant</td>\n",
       "      <td>ISIE</td>\n",
       "    </tr>\n",
       "    <tr>\n",
       "      <th>4</th>\n",
       "      <td>M</td>\n",
       "      <td>31</td>\n",
       "      <td>112975.17</td>\n",
       "      <td>Individuals</td>\n",
       "      <td>0</td>\n",
       "      <td>0</td>\n",
       "      <td>0</td>\n",
       "      <td>0</td>\n",
       "      <td>0</td>\n",
       "      <td>376</td>\n",
       "      <td>20-40</td>\n",
       "      <td>NA</td>\n",
       "      <td>consistant</td>\n",
       "      <td>ISIE</td>\n",
       "    </tr>\n",
       "  </tbody>\n",
       "</table>\n",
       "</div>"
      ],
      "text/plain": [
       "  gender  age  gross_income            segment  num_credit_cards  tiprel_1mes  \\\n",
       "0      M   21      79070.91        Individuals                 0            0   \n",
       "1      M   23     178270.68  College_Graduated                 0            0   \n",
       "2      M   24      31243.56  College_Graduated                 0            0   \n",
       "3      M   24     130740.54  College_Graduated                 0            0   \n",
       "4      M   31     112975.17        Individuals                 0            0   \n",
       "\n",
       "   ind_actividad_cliente  num_Products  num_loans  duration age_bins Status  \\\n",
       "0                      0             1          0      1035    20-40     NA   \n",
       "1                      0             1          0      1097    20-40     NA   \n",
       "2                      1             1          0      1866    20-40     NA   \n",
       "3                      0             1          0      1440    20-40     NA   \n",
       "4                      0             0          0       376    20-40     NA   \n",
       "\n",
       "    consistancy Profile  \n",
       "0    consistant    ISIE  \n",
       "1    consistant    ISIE  \n",
       "2  inconsistant    ISAE  \n",
       "3    consistant    ISIE  \n",
       "4    consistant    ISIE  "
      ]
     },
     "execution_count": 277,
     "metadata": {},
     "output_type": "execute_result"
    }
   ],
   "source": [
    "df.head()"
   ]
  },
  {
   "cell_type": "code",
   "execution_count": 278,
   "id": "f1ddda52-49ed-45df-80c4-7263f422aeb6",
   "metadata": {},
   "outputs": [
    {
     "data": {
      "text/html": [
       "<div>\n",
       "<style scoped>\n",
       "    .dataframe tbody tr th:only-of-type {\n",
       "        vertical-align: middle;\n",
       "    }\n",
       "\n",
       "    .dataframe tbody tr th {\n",
       "        vertical-align: top;\n",
       "    }\n",
       "\n",
       "    .dataframe thead th {\n",
       "        text-align: right;\n",
       "    }\n",
       "</style>\n",
       "<table border=\"1\" class=\"dataframe\">\n",
       "  <thead>\n",
       "    <tr style=\"text-align: right;\">\n",
       "      <th></th>\n",
       "      <th>age</th>\n",
       "      <th>gross_income</th>\n",
       "      <th>num_credit_cards</th>\n",
       "      <th>num_Products</th>\n",
       "      <th>num_loans</th>\n",
       "      <th>duration</th>\n",
       "    </tr>\n",
       "    <tr>\n",
       "      <th>Profile</th>\n",
       "      <th></th>\n",
       "      <th></th>\n",
       "      <th></th>\n",
       "      <th></th>\n",
       "      <th></th>\n",
       "      <th></th>\n",
       "    </tr>\n",
       "  </thead>\n",
       "  <tbody>\n",
       "    <tr>\n",
       "      <th>ASAE</th>\n",
       "      <td>43.68</td>\n",
       "      <td>142333.73</td>\n",
       "      <td>0.12</td>\n",
       "      <td>2.58</td>\n",
       "      <td>0.02</td>\n",
       "      <td>3304.77</td>\n",
       "    </tr>\n",
       "    <tr>\n",
       "      <th>ASIE</th>\n",
       "      <td>44.72</td>\n",
       "      <td>133109.93</td>\n",
       "      <td>0.01</td>\n",
       "      <td>0.78</td>\n",
       "      <td>0.01</td>\n",
       "      <td>3427.45</td>\n",
       "    </tr>\n",
       "    <tr>\n",
       "      <th>ISAE</th>\n",
       "      <td>39.75</td>\n",
       "      <td>123093.66</td>\n",
       "      <td>0.00</td>\n",
       "      <td>1.28</td>\n",
       "      <td>0.00</td>\n",
       "      <td>2648.24</td>\n",
       "    </tr>\n",
       "    <tr>\n",
       "      <th>ISIE</th>\n",
       "      <td>38.05</td>\n",
       "      <td>128290.31</td>\n",
       "      <td>0.00</td>\n",
       "      <td>0.72</td>\n",
       "      <td>0.00</td>\n",
       "      <td>2561.07</td>\n",
       "    </tr>\n",
       "  </tbody>\n",
       "</table>\n",
       "</div>"
      ],
      "text/plain": [
       "           age  gross_income  num_credit_cards  num_Products  num_loans  \\\n",
       "Profile                                                                   \n",
       "ASAE     43.68     142333.73              0.12          2.58       0.02   \n",
       "ASIE     44.72     133109.93              0.01          0.78       0.01   \n",
       "ISAE     39.75     123093.66              0.00          1.28       0.00   \n",
       "ISIE     38.05     128290.31              0.00          0.72       0.00   \n",
       "\n",
       "         duration  \n",
       "Profile            \n",
       "ASAE      3304.77  \n",
       "ASIE      3427.45  \n",
       "ISAE      2648.24  \n",
       "ISIE      2561.07  "
      ]
     },
     "execution_count": 278,
     "metadata": {},
     "output_type": "execute_result"
    }
   ],
   "source": [
    "df.groupby('Profile').aggregate(operations).round(2)"
   ]
  },
  {
   "cell_type": "code",
   "execution_count": 279,
   "id": "a0623e8b-fe33-4d78-8bab-fb461d7764c0",
   "metadata": {},
   "outputs": [
    {
     "data": {
      "text/plain": [
       "Profile  segment          \n",
       "ASAE     College_Graduated     4707\n",
       "         Individuals          15773\n",
       "         VIP                   2426\n",
       "ASIE     College_Graduated      545\n",
       "         Individuals           1522\n",
       "         VIP                     31\n",
       "ISAE     College_Graduated      958\n",
       "         Individuals           1478\n",
       "         VIP                      2\n",
       "ISIE     College_Graduated    12753\n",
       "         Individuals          13834\n",
       "         VIP                      1\n",
       "dtype: int64"
      ]
     },
     "execution_count": 279,
     "metadata": {},
     "output_type": "execute_result"
    }
   ],
   "source": [
    "df.groupby(['Profile','segment']).size()"
   ]
  },
  {
   "cell_type": "code",
   "execution_count": null,
   "id": "bba86d81-a069-4b34-b36c-2828c5b6091e",
   "metadata": {},
   "outputs": [
    {
     "data": {
      "text/plain": [
       "Profile  segment          \n",
       "ASAE     College_Graduated    AxesSubplot(0.125,0.125;0.775x0.755)\n",
       "         Individuals          AxesSubplot(0.125,0.125;0.775x0.755)\n",
       "         VIP                  AxesSubplot(0.125,0.125;0.775x0.755)\n",
       "ASIE     College_Graduated    AxesSubplot(0.125,0.125;0.775x0.755)\n",
       "         Individuals          AxesSubplot(0.125,0.125;0.775x0.755)\n",
       "         VIP                  AxesSubplot(0.125,0.125;0.775x0.755)\n",
       "ISAE     College_Graduated    AxesSubplot(0.125,0.125;0.775x0.755)\n",
       "         Individuals          AxesSubplot(0.125,0.125;0.775x0.755)\n",
       "         VIP                  AxesSubplot(0.125,0.125;0.775x0.755)\n",
       "ISIE     College_Graduated    AxesSubplot(0.125,0.125;0.775x0.755)\n",
       "         Individuals          AxesSubplot(0.125,0.125;0.775x0.755)\n",
       "         VIP                  AxesSubplot(0.125,0.125;0.775x0.755)\n",
       "dtype: object"
      ]
     },
     "execution_count": 280,
     "metadata": {},
     "output_type": "execute_result"
    },
    {
     "data": {
      "image/png": "[encoded data removed]",
      "text/plain": [
       "<Figure size 432x288 with 1 Axes>"
      ]
     },
     "metadata": {
      "needs_background": "light"
     },
     "output_type": "display_data"
    }
   ],
   "source": [
    "df.groupby(['Profile','segment']).plot(kind='bar"
   ]
  },
  {
   "cell_type": "code",
   "execution_count": null,
   "id": "5c082387-4c50-4f41-8c2e-bf5a4f8418fc",
   "metadata": {},
   "outputs": [],
   "source": []
  }
 ],
 "metadata": {
  "kernelspec": {
   "display_name": "Python 3",
   "language": "python",
   "name": "python3"
  },
  "language_info": {
   "codemirror_mode": {
    "name": "ipython",
    "version": 3
   },
   "file_extension": ".py",
   "mimetype": "text/x-python",
   "name": "python",
   "nbconvert_exporter": "python",
   "pygments_lexer": "ipython3",
   "version": "3.8.8"
  }
 },
 "nbformat": 4,
 "nbformat_minor": 5
}
